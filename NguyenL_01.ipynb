{
 "cells": [
  {
   "cell_type": "markdown",
   "metadata": {
    "id": "RhclzGIXWrsc"
   },
   "source": [
    "## Student: Nguyen, Long"
   ]
  },
  {
   "cell_type": "markdown",
   "metadata": {
    "id": "M3UTCFS2Wrsg"
   },
   "source": [
    "# Problem 1"
   ]
  },
  {
   "cell_type": "code",
   "execution_count": 1,
   "metadata": {
    "executionInfo": {
     "elapsed": 910,
     "status": "ok",
     "timestamp": 1664162341152,
     "user": {
      "displayName": "Nguyen Tuan Long",
      "userId": "10275884466683494737"
     },
     "user_tz": 420
    },
    "id": "kYHjvMo6Wrsh"
   },
   "outputs": [],
   "source": [
    "# Plotting support\n",
    "from matplotlib import pyplot as plt\n",
    "# Standard libraries\n",
    "import pandas as pd\n",
    "import sklearn as sk"
   ]
  },
  {
   "cell_type": "code",
   "execution_count": 2,
   "metadata": {
    "colab": {
     "base_uri": "https://localhost:8080/"
    },
    "executionInfo": {
     "elapsed": 17502,
     "status": "ok",
     "timestamp": 1664162358642,
     "user": {
      "displayName": "Nguyen Tuan Long",
      "userId": "10275884466683494737"
     },
     "user_tz": 420
    },
    "id": "HNk8nq9dWrsj",
    "outputId": "feb1b44a-f5db-4354-94d4-4a302a55560d"
   },
   "outputs": [
    {
     "name": "stdout",
     "output_type": "stream",
     "text": [
      "Mounted at /content/drive\n"
     ]
    }
   ],
   "source": [
    "# cd d:\\CSC 503\n",
    "from google.colab import drive\n",
    "drive.mount('/content/drive')"
   ]
  },
  {
   "cell_type": "markdown",
   "metadata": {
    "id": "iK5VNWSGWrsk"
   },
   "source": [
    "1)"
   ]
  },
  {
   "cell_type": "code",
   "execution_count": 3,
   "metadata": {
    "colab": {
     "base_uri": "https://localhost:8080/"
    },
    "executionInfo": {
     "elapsed": 810,
     "status": "ok",
     "timestamp": 1664162359447,
     "user": {
      "displayName": "Nguyen Tuan Long",
      "userId": "10275884466683494737"
     },
     "user_tz": 420
    },
    "id": "xGYRweWfWrsl",
    "outputId": "3215a723-d7fe-46fd-c4bc-e9770fde1923",
    "scrolled": true
   },
   "outputs": [
    {
     "name": "stdout",
     "output_type": "stream",
     "text": [
      "<class 'pandas.core.frame.DataFrame'>\n",
      "RangeIndex: 3145 entries, 0 to 3144\n",
      "Data columns (total 78 columns):\n",
      " #   Column                                                            Non-Null Count  Dtype  \n",
      "---  ------                                                            --------------  -----  \n",
      " 0   FIPS                                                              3145 non-null   int64  \n",
      " 1   VOTES                                                             3145 non-null   int64  \n",
      " 2   PERCENT OF ADULTS WITH LESS THAN A HIGH SCHOOL DIPLOMA,           3145 non-null   float64\n",
      " 3   PERCENT OF ADULTS WITH A HIGH SCHOOL DIPLOMA ONLY,                3145 non-null   float64\n",
      " 4   PERCENT OF ADULTS COMPLETING SOME COLLEGE OR ASSOCIATE'S DEGREE,  3145 non-null   float64\n",
      " 5   PERCENT OF ADULTS WITH A BACHELOR'S DEGREE OR HIGHER,             3145 non-null   float64\n",
      " 6   UNEMPLOYMENT RATE                                                 3145 non-null   float64\n",
      " 7   POP ESTIMATE                                                      3145 non-null   float64\n",
      " 8   AMISH                                                             3145 non-null   int64  \n",
      " 9   BUDDHIST                                                          3145 non-null   int64  \n",
      " 10  CATHOLIC                                                          3145 non-null   int64  \n",
      " 11  CHRISTIAN GENERIC                                                 3145 non-null   int64  \n",
      " 12  EASTERN ORTHODOX                                                  3145 non-null   int64  \n",
      " 13  HINDU                                                             3145 non-null   int64  \n",
      " 14  JEWISH                                                            3145 non-null   int64  \n",
      " 15  MAINLINE CHRISTIAN                                                3145 non-null   int64  \n",
      " 16  MORMON                                                            3145 non-null   int64  \n",
      " 17  MUSLIM                                                            3145 non-null   int64  \n",
      " 18  NON-CATHOLIC CHRISTIAN                                            3145 non-null   int64  \n",
      " 19  OTHER                                                             3145 non-null   int64  \n",
      " 20  OTHER CHRISTIAN                                                   3145 non-null   int64  \n",
      " 21  OTHER MISC                                                        3145 non-null   int64  \n",
      " 22  PENTECOSTAL / CHARISMATIC                                         3145 non-null   int64  \n",
      " 23  PROTESTANT DENOMINATION                                           3145 non-null   int64  \n",
      " 24  ZOROASTRIAN                                                       3145 non-null   int64  \n",
      " 25  MED HHINC                                                         3145 non-null   float64\n",
      " 26  PER CAPITA INC                                                    3145 non-null   float64\n",
      " 27  POVERTY UNDER 18 PCT                                              3145 non-null   float64\n",
      " 28  POVERTY ALL AGES PCT                                              3145 non-null   float64\n",
      " 29  DEEP POV ALL                                                      3145 non-null   float64\n",
      " 30  DEEP POV CHILDREN                                                 3145 non-null   float64\n",
      " 31  POPULATION                                                        3145 non-null   object \n",
      " 32  HOUSING UNITS                                                     3145 non-null   int64  \n",
      " 33  AREA IN SQUARE MILES - TOTAL AREA                                 3145 non-null   float64\n",
      " 34  AREA IN SQUARE MILES - WATER AREA                                 3145 non-null   float64\n",
      " 35  AREA IN SQUARE MILES - LAND AREA                                  3145 non-null   float64\n",
      " 36  DENSITY PER SQUARE MILE OF LAND AREA - POPULATION                 3145 non-null   float64\n",
      " 37  DENSITY PER SQUARE MILE OF LAND AREA - HOUSING UNITS              3145 non-null   float64\n",
      " 38  AGE TOTAL POP                                                     3145 non-null   float64\n",
      " 39  0-4 RATE                                                          3145 non-null   float64\n",
      " 40  5-9 RATE                                                          3145 non-null   float64\n",
      " 41  10-14 RATE                                                        3145 non-null   float64\n",
      " 42  15-19 RATE                                                        3145 non-null   float64\n",
      " 43  20-24 RATE                                                        3145 non-null   float64\n",
      " 44  25-29 RATE                                                        3145 non-null   float64\n",
      " 45  30-34 RATE                                                        3145 non-null   float64\n",
      " 46  35-39 RATE                                                        3145 non-null   float64\n",
      " 47  40-44 RATE                                                        3145 non-null   float64\n",
      " 48  45-49 RATE                                                        3145 non-null   float64\n",
      " 49  50-54 RATE                                                        3145 non-null   float64\n",
      " 50  55-59 RATE                                                        3145 non-null   float64\n",
      " 51  60-64 RATE                                                        3145 non-null   float64\n",
      " 52  65-69 RATE                                                        3145 non-null   int64  \n",
      " 53  70-74 RATE                                                        3145 non-null   float64\n",
      " 54  75-79 RATE                                                        3145 non-null   float64\n",
      " 55  80-84 RATE                                                        3145 non-null   float64\n",
      " 56  85+ RATE                                                          3145 non-null   float64\n",
      " 57  TOT MALE RATE                                                     3145 non-null   float64\n",
      " 58  TOT FEMALE RATE                                                   3145 non-null   float64\n",
      " 59  WHITE MALE RATE                                                   3145 non-null   float64\n",
      " 60  WHITE FEMALE RATE                                                 3145 non-null   float64\n",
      " 61  BLACK MALE RATE                                                   3145 non-null   float64\n",
      " 62  BLACK FEMALE RATE                                                 3145 non-null   float64\n",
      " 63  NATIVE AMERICAN MALE RATE                                         3145 non-null   float64\n",
      " 64  NATIVE AMERICAN FEMALE RATE                                       3145 non-null   float64\n",
      " 65  ASIAN MALE RATE                                                   3145 non-null   float64\n",
      " 66  ASIAN FEMALE RATE                                                 3145 non-null   int64  \n",
      " 67  HAWAIIAN PACIFIC MALE RATE                                        3145 non-null   float64\n",
      " 68  HAWAIIAN PACIFIC FEMALE RATE                                      3145 non-null   float64\n",
      " 69  MULTI MALE RATE                                                   3145 non-null   float64\n",
      " 70  MULTI FEMALE RATE                                                 3145 non-null   int64  \n",
      " 71  WHITE RATE                                                        3145 non-null   float64\n",
      " 72  BLACK RATE                                                        3145 non-null   float64\n",
      " 73  NATIVE AMERICAN RATE                                              3145 non-null   float64\n",
      " 74  HAWAIIAN PACIFIC RATE                                             3145 non-null   float64\n",
      " 75  MULTI RATE                                                        3145 non-null   float64\n",
      " 76  VOTER TURNOUT RATE                                                3145 non-null   float64\n",
      " 77  DEMOCRAT                                                          3145 non-null   int64  \n",
      "dtypes: float64(53), int64(24), object(1)\n",
      "memory usage: 1.9+ MB\n"
     ]
    }
   ],
   "source": [
    "import os\n",
    "os.chdir(\"drive/My Drive/CSC_503_A1\")\n",
    "elections = pd.read_csv('elections.csv') \n",
    "elections.info() # Population's data type is object (mixed of non-num)"
   ]
  },
  {
   "cell_type": "markdown",
   "metadata": {
    "id": "x9ZhGtVvWrsm"
   },
   "source": [
    "Source: https://pandas.pydata.org/pandas-docs/stable/reference/api/pandas.to_numeric.html \n",
    "https://pandas.pydata.org/docs/reference/api/pandas.DataFrame.fillna.html"
   ]
  },
  {
   "cell_type": "code",
   "execution_count": 4,
   "metadata": {
    "colab": {
     "base_uri": "https://localhost:8080/"
    },
    "executionInfo": {
     "elapsed": 9,
     "status": "ok",
     "timestamp": 1664162359448,
     "user": {
      "displayName": "Nguyen Tuan Long",
      "userId": "10275884466683494737"
     },
     "user_tz": 420
    },
    "id": "73bAUnM1Wrsn",
    "outputId": "b0561c5a-6f68-475b-a5ce-611978acb4c3"
   },
   "outputs": [
    {
     "data": {
      "text/plain": [
       "5"
      ]
     },
     "execution_count": 4,
     "metadata": {},
     "output_type": "execute_result"
    }
   ],
   "source": [
    "elections['POPULATION'] = pd.to_numeric(elections['POPULATION'],errors='coerce')\n",
    "elections['POPULATION'].isna().sum()"
   ]
  },
  {
   "cell_type": "code",
   "execution_count": 5,
   "metadata": {
    "colab": {
     "base_uri": "https://localhost:8080/"
    },
    "executionInfo": {
     "elapsed": 8,
     "status": "ok",
     "timestamp": 1664162359449,
     "user": {
      "displayName": "Nguyen Tuan Long",
      "userId": "10275884466683494737"
     },
     "user_tz": 420
    },
    "id": "57oH5wl9Wrso",
    "outputId": "d1963ff2-0775-471a-af81-2a4d872a2913"
   },
   "outputs": [
    {
     "data": {
      "text/plain": [
       "0      1311.0\n",
       "1    620961.0\n",
       "2    156545.0\n",
       "3      5559.0\n",
       "4    190039.0\n",
       "Name: POPULATION, dtype: float64"
      ]
     },
     "execution_count": 5,
     "metadata": {},
     "output_type": "execute_result"
    }
   ],
   "source": [
    "elections['POPULATION'] = elections['POPULATION'].fillna(0)\n",
    "\n",
    "#convert non-numeric to NaN and then replace it with 0\n",
    "elections['POPULATION'].head()"
   ]
  },
  {
   "cell_type": "markdown",
   "metadata": {
    "id": "lAP6jMLzWrsp"
   },
   "source": [
    "2)"
   ]
  },
  {
   "cell_type": "code",
   "execution_count": 6,
   "metadata": {
    "colab": {
     "base_uri": "https://localhost:8080/",
     "height": 206
    },
    "executionInfo": {
     "elapsed": 536,
     "status": "ok",
     "timestamp": 1664162359981,
     "user": {
      "displayName": "Nguyen Tuan Long",
      "userId": "10275884466683494737"
     },
     "user_tz": 420
    },
    "id": "XVCFbmH1Wrsp",
    "outputId": "c9f51766-072d-4f23-d3d3-cc3869880144"
   },
   "outputs": [
    {
     "data": {
      "text/html": [
       "\n",
       "  <div id=\"df-fa39f1f7-e3f1-45f7-9328-dea45d89aafc\">\n",
       "    <div class=\"colab-df-container\">\n",
       "      <div>\n",
       "<style scoped>\n",
       "    .dataframe tbody tr th:only-of-type {\n",
       "        vertical-align: middle;\n",
       "    }\n",
       "\n",
       "    .dataframe tbody tr th {\n",
       "        vertical-align: top;\n",
       "    }\n",
       "\n",
       "    .dataframe thead th {\n",
       "        text-align: right;\n",
       "    }\n",
       "</style>\n",
       "<table border=\"1\" class=\"dataframe\">\n",
       "  <thead>\n",
       "    <tr style=\"text-align: right;\">\n",
       "      <th></th>\n",
       "      <th>FIPS</th>\n",
       "      <th>NAME</th>\n",
       "      <th>STATE</th>\n",
       "    </tr>\n",
       "  </thead>\n",
       "  <tbody>\n",
       "    <tr>\n",
       "      <th>0</th>\n",
       "      <td>1001</td>\n",
       "      <td>Autauga County</td>\n",
       "      <td>AL</td>\n",
       "    </tr>\n",
       "    <tr>\n",
       "      <th>1</th>\n",
       "      <td>1003</td>\n",
       "      <td>Baldwin County</td>\n",
       "      <td>AL</td>\n",
       "    </tr>\n",
       "    <tr>\n",
       "      <th>2</th>\n",
       "      <td>1005</td>\n",
       "      <td>Barbour County</td>\n",
       "      <td>AL</td>\n",
       "    </tr>\n",
       "    <tr>\n",
       "      <th>3</th>\n",
       "      <td>1007</td>\n",
       "      <td>Bibb County</td>\n",
       "      <td>AL</td>\n",
       "    </tr>\n",
       "    <tr>\n",
       "      <th>4</th>\n",
       "      <td>1009</td>\n",
       "      <td>Blount County</td>\n",
       "      <td>AL</td>\n",
       "    </tr>\n",
       "  </tbody>\n",
       "</table>\n",
       "</div>\n",
       "      <button class=\"colab-df-convert\" onclick=\"convertToInteractive('df-fa39f1f7-e3f1-45f7-9328-dea45d89aafc')\"\n",
       "              title=\"Convert this dataframe to an interactive table.\"\n",
       "              style=\"display:none;\">\n",
       "        \n",
       "  <svg xmlns=\"http://www.w3.org/2000/svg\" height=\"24px\"viewBox=\"0 0 24 24\"\n",
       "       width=\"24px\">\n",
       "    <path d=\"M0 0h24v24H0V0z\" fill=\"none\"/>\n",
       "    <path d=\"M18.56 5.44l.94 2.06.94-2.06 2.06-.94-2.06-.94-.94-2.06-.94 2.06-2.06.94zm-11 1L8.5 8.5l.94-2.06 2.06-.94-2.06-.94L8.5 2.5l-.94 2.06-2.06.94zm10 10l.94 2.06.94-2.06 2.06-.94-2.06-.94-.94-2.06-.94 2.06-2.06.94z\"/><path d=\"M17.41 7.96l-1.37-1.37c-.4-.4-.92-.59-1.43-.59-.52 0-1.04.2-1.43.59L10.3 9.45l-7.72 7.72c-.78.78-.78 2.05 0 2.83L4 21.41c.39.39.9.59 1.41.59.51 0 1.02-.2 1.41-.59l7.78-7.78 2.81-2.81c.8-.78.8-2.07 0-2.86zM5.41 20L4 18.59l7.72-7.72 1.47 1.35L5.41 20z\"/>\n",
       "  </svg>\n",
       "      </button>\n",
       "      \n",
       "  <style>\n",
       "    .colab-df-container {\n",
       "      display:flex;\n",
       "      flex-wrap:wrap;\n",
       "      gap: 12px;\n",
       "    }\n",
       "\n",
       "    .colab-df-convert {\n",
       "      background-color: #E8F0FE;\n",
       "      border: none;\n",
       "      border-radius: 50%;\n",
       "      cursor: pointer;\n",
       "      display: none;\n",
       "      fill: #1967D2;\n",
       "      height: 32px;\n",
       "      padding: 0 0 0 0;\n",
       "      width: 32px;\n",
       "    }\n",
       "\n",
       "    .colab-df-convert:hover {\n",
       "      background-color: #E2EBFA;\n",
       "      box-shadow: 0px 1px 2px rgba(60, 64, 67, 0.3), 0px 1px 3px 1px rgba(60, 64, 67, 0.15);\n",
       "      fill: #174EA6;\n",
       "    }\n",
       "\n",
       "    [theme=dark] .colab-df-convert {\n",
       "      background-color: #3B4455;\n",
       "      fill: #D2E3FC;\n",
       "    }\n",
       "\n",
       "    [theme=dark] .colab-df-convert:hover {\n",
       "      background-color: #434B5C;\n",
       "      box-shadow: 0px 1px 3px 1px rgba(0, 0, 0, 0.15);\n",
       "      filter: drop-shadow(0px 1px 2px rgba(0, 0, 0, 0.3));\n",
       "      fill: #FFFFFF;\n",
       "    }\n",
       "  </style>\n",
       "\n",
       "      <script>\n",
       "        const buttonEl =\n",
       "          document.querySelector('#df-fa39f1f7-e3f1-45f7-9328-dea45d89aafc button.colab-df-convert');\n",
       "        buttonEl.style.display =\n",
       "          google.colab.kernel.accessAllowed ? 'block' : 'none';\n",
       "\n",
       "        async function convertToInteractive(key) {\n",
       "          const element = document.querySelector('#df-fa39f1f7-e3f1-45f7-9328-dea45d89aafc');\n",
       "          const dataTable =\n",
       "            await google.colab.kernel.invokeFunction('convertToInteractive',\n",
       "                                                     [key], {});\n",
       "          if (!dataTable) return;\n",
       "\n",
       "          const docLinkHtml = 'Like what you see? Visit the ' +\n",
       "            '<a target=\"_blank\" href=https://colab.research.google.com/notebooks/data_table.ipynb>data table notebook</a>'\n",
       "            + ' to learn more about interactive tables.';\n",
       "          element.innerHTML = '';\n",
       "          dataTable['output_type'] = 'display_data';\n",
       "          await google.colab.output.renderOutput(dataTable, element);\n",
       "          const docLink = document.createElement('div');\n",
       "          docLink.innerHTML = docLinkHtml;\n",
       "          element.appendChild(docLink);\n",
       "        }\n",
       "      </script>\n",
       "    </div>\n",
       "  </div>\n",
       "  "
      ],
      "text/plain": [
       "   FIPS            NAME STATE\n",
       "0  1001  Autauga County    AL\n",
       "1  1003  Baldwin County    AL\n",
       "2  1005  Barbour County    AL\n",
       "3  1007     Bibb County    AL\n",
       "4  1009   Blount County    AL"
      ]
     },
     "execution_count": 6,
     "metadata": {},
     "output_type": "execute_result"
    }
   ],
   "source": [
    "# If UTF has problems, use ISO\n",
    "# fips = pd.read_csv('fips-by-state.csv',encoding = \"ISO-8859-1\")\n",
    "fips = pd.read_csv('fips-by-state.csv')\n",
    "fips.columns = fips.columns.str.upper()\n",
    "fips.head()"
   ]
  },
  {
   "cell_type": "markdown",
   "metadata": {
    "id": "yC-0NKtRWrsq"
   },
   "source": [
    "Source: https://pandas.pydata.org/docs/reference/api/pandas.DataFrame.merge.html"
   ]
  },
  {
   "cell_type": "code",
   "execution_count": 7,
   "metadata": {
    "colab": {
     "base_uri": "https://localhost:8080/",
     "height": 577
    },
    "executionInfo": {
     "elapsed": 11,
     "status": "ok",
     "timestamp": 1664162359982,
     "user": {
      "displayName": "Nguyen Tuan Long",
      "userId": "10275884466683494737"
     },
     "user_tz": 420
    },
    "id": "poXo3COeWrsr",
    "outputId": "2a607810-7d20-49ca-b7cb-2bca309c5807"
   },
   "outputs": [
    {
     "data": {
      "text/html": [
       "\n",
       "  <div id=\"df-e8436076-be4f-4e56-8ea0-a5be8ce73577\">\n",
       "    <div class=\"colab-df-container\">\n",
       "      <div>\n",
       "<style scoped>\n",
       "    .dataframe tbody tr th:only-of-type {\n",
       "        vertical-align: middle;\n",
       "    }\n",
       "\n",
       "    .dataframe tbody tr th {\n",
       "        vertical-align: top;\n",
       "    }\n",
       "\n",
       "    .dataframe thead th {\n",
       "        text-align: right;\n",
       "    }\n",
       "</style>\n",
       "<table border=\"1\" class=\"dataframe\">\n",
       "  <thead>\n",
       "    <tr style=\"text-align: right;\">\n",
       "      <th></th>\n",
       "      <th>VOTES</th>\n",
       "      <th>PERCENT OF ADULTS WITH LESS THAN A HIGH SCHOOL DIPLOMA,</th>\n",
       "      <th>PERCENT OF ADULTS WITH A HIGH SCHOOL DIPLOMA ONLY,</th>\n",
       "      <th>PERCENT OF ADULTS COMPLETING SOME COLLEGE OR ASSOCIATE'S DEGREE,</th>\n",
       "      <th>PERCENT OF ADULTS WITH A BACHELOR'S DEGREE OR HIGHER,</th>\n",
       "      <th>UNEMPLOYMENT RATE</th>\n",
       "      <th>POP ESTIMATE</th>\n",
       "      <th>AMISH</th>\n",
       "      <th>BUDDHIST</th>\n",
       "      <th>CATHOLIC</th>\n",
       "      <th>...</th>\n",
       "      <th>MULTI FEMALE RATE</th>\n",
       "      <th>WHITE RATE</th>\n",
       "      <th>BLACK RATE</th>\n",
       "      <th>NATIVE AMERICAN RATE</th>\n",
       "      <th>HAWAIIAN PACIFIC RATE</th>\n",
       "      <th>MULTI RATE</th>\n",
       "      <th>VOTER TURNOUT RATE</th>\n",
       "      <th>DEMOCRAT</th>\n",
       "      <th>NAME</th>\n",
       "      <th>STATE</th>\n",
       "    </tr>\n",
       "  </thead>\n",
       "  <tbody>\n",
       "    <tr>\n",
       "      <th>0</th>\n",
       "      <td>709</td>\n",
       "      <td>6.5</td>\n",
       "      <td>33.4</td>\n",
       "      <td>33.6</td>\n",
       "      <td>26.6</td>\n",
       "      <td>2.5</td>\n",
       "      <td>1260.0</td>\n",
       "      <td>0</td>\n",
       "      <td>0</td>\n",
       "      <td>152</td>\n",
       "      <td>...</td>\n",
       "      <td>0</td>\n",
       "      <td>0.968254</td>\n",
       "      <td>0.001587</td>\n",
       "      <td>0.014286</td>\n",
       "      <td>0.000000</td>\n",
       "      <td>0.008730</td>\n",
       "      <td>0.562698</td>\n",
       "      <td>0</td>\n",
       "      <td>Sioux County</td>\n",
       "      <td>NE</td>\n",
       "    </tr>\n",
       "    <tr>\n",
       "      <th>1</th>\n",
       "      <td>208980</td>\n",
       "      <td>17.5</td>\n",
       "      <td>29.8</td>\n",
       "      <td>24.1</td>\n",
       "      <td>28.7</td>\n",
       "      <td>7.7</td>\n",
       "      <td>621849.0</td>\n",
       "      <td>0</td>\n",
       "      <td>0</td>\n",
       "      <td>228</td>\n",
       "      <td>...</td>\n",
       "      <td>0</td>\n",
       "      <td>0.316984</td>\n",
       "      <td>0.629272</td>\n",
       "      <td>0.004360</td>\n",
       "      <td>0.000917</td>\n",
       "      <td>0.009735</td>\n",
       "      <td>0.336062</td>\n",
       "      <td>1</td>\n",
       "      <td>Baltimore city</td>\n",
       "      <td>MD</td>\n",
       "    </tr>\n",
       "    <tr>\n",
       "      <th>2</th>\n",
       "      <td>77261</td>\n",
       "      <td>6.2</td>\n",
       "      <td>20.6</td>\n",
       "      <td>24.5</td>\n",
       "      <td>48.7</td>\n",
       "      <td>2.7</td>\n",
       "      <td>161382.0</td>\n",
       "      <td>0</td>\n",
       "      <td>1</td>\n",
       "      <td>500</td>\n",
       "      <td>...</td>\n",
       "      <td>0</td>\n",
       "      <td>0.912208</td>\n",
       "      <td>0.025505</td>\n",
       "      <td>0.002510</td>\n",
       "      <td>0.000539</td>\n",
       "      <td>0.010317</td>\n",
       "      <td>0.478746</td>\n",
       "      <td>1</td>\n",
       "      <td>Chittenden County</td>\n",
       "      <td>VT</td>\n",
       "    </tr>\n",
       "    <tr>\n",
       "      <th>3</th>\n",
       "      <td>7471</td>\n",
       "      <td>9.4</td>\n",
       "      <td>40.9</td>\n",
       "      <td>34.1</td>\n",
       "      <td>15.5</td>\n",
       "      <td>12.5</td>\n",
       "      <td>6341.0</td>\n",
       "      <td>0</td>\n",
       "      <td>0</td>\n",
       "      <td>161</td>\n",
       "      <td>...</td>\n",
       "      <td>0</td>\n",
       "      <td>0.757510</td>\n",
       "      <td>0.129665</td>\n",
       "      <td>0.011954</td>\n",
       "      <td>0.002299</td>\n",
       "      <td>0.012374</td>\n",
       "      <td>1.178205</td>\n",
       "      <td>0</td>\n",
       "      <td>Prince of Wales-Hyder Census Area</td>\n",
       "      <td>AK</td>\n",
       "    </tr>\n",
       "    <tr>\n",
       "      <th>4</th>\n",
       "      <td>136392</td>\n",
       "      <td>6.1</td>\n",
       "      <td>21.2</td>\n",
       "      <td>30.5</td>\n",
       "      <td>42.1</td>\n",
       "      <td>3.9</td>\n",
       "      <td>226640.0</td>\n",
       "      <td>0</td>\n",
       "      <td>1</td>\n",
       "      <td>287</td>\n",
       "      <td>...</td>\n",
       "      <td>0</td>\n",
       "      <td>0.892834</td>\n",
       "      <td>0.055987</td>\n",
       "      <td>0.003450</td>\n",
       "      <td>0.000847</td>\n",
       "      <td>0.009553</td>\n",
       "      <td>0.601800</td>\n",
       "      <td>0</td>\n",
       "      <td>St. Johns County</td>\n",
       "      <td>FL</td>\n",
       "    </tr>\n",
       "  </tbody>\n",
       "</table>\n",
       "<p>5 rows × 79 columns</p>\n",
       "</div>\n",
       "      <button class=\"colab-df-convert\" onclick=\"convertToInteractive('df-e8436076-be4f-4e56-8ea0-a5be8ce73577')\"\n",
       "              title=\"Convert this dataframe to an interactive table.\"\n",
       "              style=\"display:none;\">\n",
       "        \n",
       "  <svg xmlns=\"http://www.w3.org/2000/svg\" height=\"24px\"viewBox=\"0 0 24 24\"\n",
       "       width=\"24px\">\n",
       "    <path d=\"M0 0h24v24H0V0z\" fill=\"none\"/>\n",
       "    <path d=\"M18.56 5.44l.94 2.06.94-2.06 2.06-.94-2.06-.94-.94-2.06-.94 2.06-2.06.94zm-11 1L8.5 8.5l.94-2.06 2.06-.94-2.06-.94L8.5 2.5l-.94 2.06-2.06.94zm10 10l.94 2.06.94-2.06 2.06-.94-2.06-.94-.94-2.06-.94 2.06-2.06.94z\"/><path d=\"M17.41 7.96l-1.37-1.37c-.4-.4-.92-.59-1.43-.59-.52 0-1.04.2-1.43.59L10.3 9.45l-7.72 7.72c-.78.78-.78 2.05 0 2.83L4 21.41c.39.39.9.59 1.41.59.51 0 1.02-.2 1.41-.59l7.78-7.78 2.81-2.81c.8-.78.8-2.07 0-2.86zM5.41 20L4 18.59l7.72-7.72 1.47 1.35L5.41 20z\"/>\n",
       "  </svg>\n",
       "      </button>\n",
       "      \n",
       "  <style>\n",
       "    .colab-df-container {\n",
       "      display:flex;\n",
       "      flex-wrap:wrap;\n",
       "      gap: 12px;\n",
       "    }\n",
       "\n",
       "    .colab-df-convert {\n",
       "      background-color: #E8F0FE;\n",
       "      border: none;\n",
       "      border-radius: 50%;\n",
       "      cursor: pointer;\n",
       "      display: none;\n",
       "      fill: #1967D2;\n",
       "      height: 32px;\n",
       "      padding: 0 0 0 0;\n",
       "      width: 32px;\n",
       "    }\n",
       "\n",
       "    .colab-df-convert:hover {\n",
       "      background-color: #E2EBFA;\n",
       "      box-shadow: 0px 1px 2px rgba(60, 64, 67, 0.3), 0px 1px 3px 1px rgba(60, 64, 67, 0.15);\n",
       "      fill: #174EA6;\n",
       "    }\n",
       "\n",
       "    [theme=dark] .colab-df-convert {\n",
       "      background-color: #3B4455;\n",
       "      fill: #D2E3FC;\n",
       "    }\n",
       "\n",
       "    [theme=dark] .colab-df-convert:hover {\n",
       "      background-color: #434B5C;\n",
       "      box-shadow: 0px 1px 3px 1px rgba(0, 0, 0, 0.15);\n",
       "      filter: drop-shadow(0px 1px 2px rgba(0, 0, 0, 0.3));\n",
       "      fill: #FFFFFF;\n",
       "    }\n",
       "  </style>\n",
       "\n",
       "      <script>\n",
       "        const buttonEl =\n",
       "          document.querySelector('#df-e8436076-be4f-4e56-8ea0-a5be8ce73577 button.colab-df-convert');\n",
       "        buttonEl.style.display =\n",
       "          google.colab.kernel.accessAllowed ? 'block' : 'none';\n",
       "\n",
       "        async function convertToInteractive(key) {\n",
       "          const element = document.querySelector('#df-e8436076-be4f-4e56-8ea0-a5be8ce73577');\n",
       "          const dataTable =\n",
       "            await google.colab.kernel.invokeFunction('convertToInteractive',\n",
       "                                                     [key], {});\n",
       "          if (!dataTable) return;\n",
       "\n",
       "          const docLinkHtml = 'Like what you see? Visit the ' +\n",
       "            '<a target=\"_blank\" href=https://colab.research.google.com/notebooks/data_table.ipynb>data table notebook</a>'\n",
       "            + ' to learn more about interactive tables.';\n",
       "          element.innerHTML = '';\n",
       "          dataTable['output_type'] = 'display_data';\n",
       "          await google.colab.output.renderOutput(dataTable, element);\n",
       "          const docLink = document.createElement('div');\n",
       "          docLink.innerHTML = docLinkHtml;\n",
       "          element.appendChild(docLink);\n",
       "        }\n",
       "      </script>\n",
       "    </div>\n",
       "  </div>\n",
       "  "
      ],
      "text/plain": [
       "    VOTES  PERCENT OF ADULTS WITH LESS THAN A HIGH SCHOOL DIPLOMA,  \\\n",
       "0     709                                                6.5         \n",
       "1  208980                                               17.5         \n",
       "2   77261                                                6.2         \n",
       "3    7471                                                9.4         \n",
       "4  136392                                                6.1         \n",
       "\n",
       "   PERCENT OF ADULTS WITH A HIGH SCHOOL DIPLOMA ONLY,  \\\n",
       "0                                               33.4    \n",
       "1                                               29.8    \n",
       "2                                               20.6    \n",
       "3                                               40.9    \n",
       "4                                               21.2    \n",
       "\n",
       "   PERCENT OF ADULTS COMPLETING SOME COLLEGE OR ASSOCIATE'S DEGREE,  \\\n",
       "0                                               33.6                  \n",
       "1                                               24.1                  \n",
       "2                                               24.5                  \n",
       "3                                               34.1                  \n",
       "4                                               30.5                  \n",
       "\n",
       "   PERCENT OF ADULTS WITH A BACHELOR'S DEGREE OR HIGHER,  UNEMPLOYMENT RATE  \\\n",
       "0                                               26.6                    2.5   \n",
       "1                                               28.7                    7.7   \n",
       "2                                               48.7                    2.7   \n",
       "3                                               15.5                   12.5   \n",
       "4                                               42.1                    3.9   \n",
       "\n",
       "   POP ESTIMATE  AMISH  BUDDHIST  CATHOLIC  ...  MULTI FEMALE RATE  \\\n",
       "0        1260.0      0         0       152  ...                  0   \n",
       "1      621849.0      0         0       228  ...                  0   \n",
       "2      161382.0      0         1       500  ...                  0   \n",
       "3        6341.0      0         0       161  ...                  0   \n",
       "4      226640.0      0         1       287  ...                  0   \n",
       "\n",
       "   WHITE RATE  BLACK RATE  NATIVE AMERICAN RATE  HAWAIIAN PACIFIC RATE  \\\n",
       "0    0.968254    0.001587              0.014286               0.000000   \n",
       "1    0.316984    0.629272              0.004360               0.000917   \n",
       "2    0.912208    0.025505              0.002510               0.000539   \n",
       "3    0.757510    0.129665              0.011954               0.002299   \n",
       "4    0.892834    0.055987              0.003450               0.000847   \n",
       "\n",
       "   MULTI RATE  VOTER TURNOUT RATE  DEMOCRAT  \\\n",
       "0    0.008730            0.562698         0   \n",
       "1    0.009735            0.336062         1   \n",
       "2    0.010317            0.478746         1   \n",
       "3    0.012374            1.178205         0   \n",
       "4    0.009553            0.601800         0   \n",
       "\n",
       "                                NAME  STATE  \n",
       "0                       Sioux County     NE  \n",
       "1                     Baltimore city     MD  \n",
       "2                  Chittenden County     VT  \n",
       "3  Prince of Wales-Hyder Census Area     AK  \n",
       "4                   St. Johns County     FL  \n",
       "\n",
       "[5 rows x 79 columns]"
      ]
     },
     "execution_count": 7,
     "metadata": {},
     "output_type": "execute_result"
    }
   ],
   "source": [
    "merged = elections.merge(fips, how='inner', on='FIPS')\n",
    "merged.pop('FIPS')\n",
    "merged.head()"
   ]
  },
  {
   "cell_type": "markdown",
   "metadata": {
    "id": "iTPlQfHEWrss"
   },
   "source": [
    "3)"
   ]
  },
  {
   "cell_type": "code",
   "execution_count": 8,
   "metadata": {
    "colab": {
     "base_uri": "https://localhost:8080/",
     "height": 473
    },
    "executionInfo": {
     "elapsed": 10,
     "status": "ok",
     "timestamp": 1664162359983,
     "user": {
      "displayName": "Nguyen Tuan Long",
      "userId": "10275884466683494737"
     },
     "user_tz": 420
    },
    "id": "nPFhqLN7Wrss",
    "outputId": "cf1cc3e3-ec59-4ed3-fd87-4788cab009fe"
   },
   "outputs": [
    {
     "data": {
      "text/html": [
       "\n",
       "  <div id=\"df-9f3a2fa0-25a5-40c8-b742-edf526a3c3e0\">\n",
       "    <div class=\"colab-df-container\">\n",
       "      <div>\n",
       "<style scoped>\n",
       "    .dataframe tbody tr th:only-of-type {\n",
       "        vertical-align: middle;\n",
       "    }\n",
       "\n",
       "    .dataframe tbody tr th {\n",
       "        vertical-align: top;\n",
       "    }\n",
       "\n",
       "    .dataframe thead th {\n",
       "        text-align: right;\n",
       "    }\n",
       "</style>\n",
       "<table border=\"1\" class=\"dataframe\">\n",
       "  <thead>\n",
       "    <tr style=\"text-align: right;\">\n",
       "      <th></th>\n",
       "      <th>VOTES</th>\n",
       "      <th>UNEMPLOYMENT RATE</th>\n",
       "      <th>POP ESTIMATE</th>\n",
       "      <th>AMISH</th>\n",
       "      <th>BUDDHIST</th>\n",
       "      <th>CATHOLIC</th>\n",
       "      <th>CHRISTIAN GENERIC</th>\n",
       "      <th>EASTERN ORTHODOX</th>\n",
       "      <th>HINDU</th>\n",
       "      <th>JEWISH</th>\n",
       "      <th>...</th>\n",
       "      <th>WHITE RATE</th>\n",
       "      <th>BLACK RATE</th>\n",
       "      <th>NATIVE AMERICAN RATE</th>\n",
       "      <th>HAWAIIAN PACIFIC RATE</th>\n",
       "      <th>MULTI RATE</th>\n",
       "      <th>VOTER TURNOUT RATE</th>\n",
       "      <th>DEMOCRAT</th>\n",
       "      <th>NAME</th>\n",
       "      <th>STATE</th>\n",
       "      <th>EDUCATION</th>\n",
       "    </tr>\n",
       "  </thead>\n",
       "  <tbody>\n",
       "    <tr>\n",
       "      <th>0</th>\n",
       "      <td>709</td>\n",
       "      <td>2.5</td>\n",
       "      <td>1260.0</td>\n",
       "      <td>0</td>\n",
       "      <td>0</td>\n",
       "      <td>152</td>\n",
       "      <td>138</td>\n",
       "      <td>0</td>\n",
       "      <td>0</td>\n",
       "      <td>0</td>\n",
       "      <td>...</td>\n",
       "      <td>0.968254</td>\n",
       "      <td>0.001587</td>\n",
       "      <td>0.014286</td>\n",
       "      <td>0.000000</td>\n",
       "      <td>0.008730</td>\n",
       "      <td>0.562698</td>\n",
       "      <td>0</td>\n",
       "      <td>Sioux County</td>\n",
       "      <td>NE</td>\n",
       "      <td>93.6</td>\n",
       "    </tr>\n",
       "    <tr>\n",
       "      <th>1</th>\n",
       "      <td>208980</td>\n",
       "      <td>7.7</td>\n",
       "      <td>621849.0</td>\n",
       "      <td>0</td>\n",
       "      <td>0</td>\n",
       "      <td>228</td>\n",
       "      <td>301</td>\n",
       "      <td>8</td>\n",
       "      <td>0</td>\n",
       "      <td>43</td>\n",
       "      <td>...</td>\n",
       "      <td>0.316984</td>\n",
       "      <td>0.629272</td>\n",
       "      <td>0.004360</td>\n",
       "      <td>0.000917</td>\n",
       "      <td>0.009735</td>\n",
       "      <td>0.336062</td>\n",
       "      <td>1</td>\n",
       "      <td>Baltimore city</td>\n",
       "      <td>MD</td>\n",
       "      <td>82.6</td>\n",
       "    </tr>\n",
       "    <tr>\n",
       "      <th>2</th>\n",
       "      <td>77261</td>\n",
       "      <td>2.7</td>\n",
       "      <td>161382.0</td>\n",
       "      <td>0</td>\n",
       "      <td>1</td>\n",
       "      <td>500</td>\n",
       "      <td>116</td>\n",
       "      <td>0</td>\n",
       "      <td>0</td>\n",
       "      <td>9</td>\n",
       "      <td>...</td>\n",
       "      <td>0.912208</td>\n",
       "      <td>0.025505</td>\n",
       "      <td>0.002510</td>\n",
       "      <td>0.000539</td>\n",
       "      <td>0.010317</td>\n",
       "      <td>0.478746</td>\n",
       "      <td>1</td>\n",
       "      <td>Chittenden County</td>\n",
       "      <td>VT</td>\n",
       "      <td>93.8</td>\n",
       "    </tr>\n",
       "    <tr>\n",
       "      <th>3</th>\n",
       "      <td>7471</td>\n",
       "      <td>12.5</td>\n",
       "      <td>6341.0</td>\n",
       "      <td>0</td>\n",
       "      <td>0</td>\n",
       "      <td>161</td>\n",
       "      <td>199</td>\n",
       "      <td>0</td>\n",
       "      <td>0</td>\n",
       "      <td>0</td>\n",
       "      <td>...</td>\n",
       "      <td>0.757510</td>\n",
       "      <td>0.129665</td>\n",
       "      <td>0.011954</td>\n",
       "      <td>0.002299</td>\n",
       "      <td>0.012374</td>\n",
       "      <td>1.178205</td>\n",
       "      <td>0</td>\n",
       "      <td>Prince of Wales-Hyder Census Area</td>\n",
       "      <td>AK</td>\n",
       "      <td>90.5</td>\n",
       "    </tr>\n",
       "    <tr>\n",
       "      <th>4</th>\n",
       "      <td>136392</td>\n",
       "      <td>3.9</td>\n",
       "      <td>226640.0</td>\n",
       "      <td>0</td>\n",
       "      <td>1</td>\n",
       "      <td>287</td>\n",
       "      <td>191</td>\n",
       "      <td>1</td>\n",
       "      <td>9</td>\n",
       "      <td>4</td>\n",
       "      <td>...</td>\n",
       "      <td>0.892834</td>\n",
       "      <td>0.055987</td>\n",
       "      <td>0.003450</td>\n",
       "      <td>0.000847</td>\n",
       "      <td>0.009553</td>\n",
       "      <td>0.601800</td>\n",
       "      <td>0</td>\n",
       "      <td>St. Johns County</td>\n",
       "      <td>FL</td>\n",
       "      <td>93.8</td>\n",
       "    </tr>\n",
       "  </tbody>\n",
       "</table>\n",
       "<p>5 rows × 76 columns</p>\n",
       "</div>\n",
       "      <button class=\"colab-df-convert\" onclick=\"convertToInteractive('df-9f3a2fa0-25a5-40c8-b742-edf526a3c3e0')\"\n",
       "              title=\"Convert this dataframe to an interactive table.\"\n",
       "              style=\"display:none;\">\n",
       "        \n",
       "  <svg xmlns=\"http://www.w3.org/2000/svg\" height=\"24px\"viewBox=\"0 0 24 24\"\n",
       "       width=\"24px\">\n",
       "    <path d=\"M0 0h24v24H0V0z\" fill=\"none\"/>\n",
       "    <path d=\"M18.56 5.44l.94 2.06.94-2.06 2.06-.94-2.06-.94-.94-2.06-.94 2.06-2.06.94zm-11 1L8.5 8.5l.94-2.06 2.06-.94-2.06-.94L8.5 2.5l-.94 2.06-2.06.94zm10 10l.94 2.06.94-2.06 2.06-.94-2.06-.94-.94-2.06-.94 2.06-2.06.94z\"/><path d=\"M17.41 7.96l-1.37-1.37c-.4-.4-.92-.59-1.43-.59-.52 0-1.04.2-1.43.59L10.3 9.45l-7.72 7.72c-.78.78-.78 2.05 0 2.83L4 21.41c.39.39.9.59 1.41.59.51 0 1.02-.2 1.41-.59l7.78-7.78 2.81-2.81c.8-.78.8-2.07 0-2.86zM5.41 20L4 18.59l7.72-7.72 1.47 1.35L5.41 20z\"/>\n",
       "  </svg>\n",
       "      </button>\n",
       "      \n",
       "  <style>\n",
       "    .colab-df-container {\n",
       "      display:flex;\n",
       "      flex-wrap:wrap;\n",
       "      gap: 12px;\n",
       "    }\n",
       "\n",
       "    .colab-df-convert {\n",
       "      background-color: #E8F0FE;\n",
       "      border: none;\n",
       "      border-radius: 50%;\n",
       "      cursor: pointer;\n",
       "      display: none;\n",
       "      fill: #1967D2;\n",
       "      height: 32px;\n",
       "      padding: 0 0 0 0;\n",
       "      width: 32px;\n",
       "    }\n",
       "\n",
       "    .colab-df-convert:hover {\n",
       "      background-color: #E2EBFA;\n",
       "      box-shadow: 0px 1px 2px rgba(60, 64, 67, 0.3), 0px 1px 3px 1px rgba(60, 64, 67, 0.15);\n",
       "      fill: #174EA6;\n",
       "    }\n",
       "\n",
       "    [theme=dark] .colab-df-convert {\n",
       "      background-color: #3B4455;\n",
       "      fill: #D2E3FC;\n",
       "    }\n",
       "\n",
       "    [theme=dark] .colab-df-convert:hover {\n",
       "      background-color: #434B5C;\n",
       "      box-shadow: 0px 1px 3px 1px rgba(0, 0, 0, 0.15);\n",
       "      filter: drop-shadow(0px 1px 2px rgba(0, 0, 0, 0.3));\n",
       "      fill: #FFFFFF;\n",
       "    }\n",
       "  </style>\n",
       "\n",
       "      <script>\n",
       "        const buttonEl =\n",
       "          document.querySelector('#df-9f3a2fa0-25a5-40c8-b742-edf526a3c3e0 button.colab-df-convert');\n",
       "        buttonEl.style.display =\n",
       "          google.colab.kernel.accessAllowed ? 'block' : 'none';\n",
       "\n",
       "        async function convertToInteractive(key) {\n",
       "          const element = document.querySelector('#df-9f3a2fa0-25a5-40c8-b742-edf526a3c3e0');\n",
       "          const dataTable =\n",
       "            await google.colab.kernel.invokeFunction('convertToInteractive',\n",
       "                                                     [key], {});\n",
       "          if (!dataTable) return;\n",
       "\n",
       "          const docLinkHtml = 'Like what you see? Visit the ' +\n",
       "            '<a target=\"_blank\" href=https://colab.research.google.com/notebooks/data_table.ipynb>data table notebook</a>'\n",
       "            + ' to learn more about interactive tables.';\n",
       "          element.innerHTML = '';\n",
       "          dataTable['output_type'] = 'display_data';\n",
       "          await google.colab.output.renderOutput(dataTable, element);\n",
       "          const docLink = document.createElement('div');\n",
       "          docLink.innerHTML = docLinkHtml;\n",
       "          element.appendChild(docLink);\n",
       "        }\n",
       "      </script>\n",
       "    </div>\n",
       "  </div>\n",
       "  "
      ],
      "text/plain": [
       "    VOTES  UNEMPLOYMENT RATE  POP ESTIMATE  AMISH  BUDDHIST  CATHOLIC  \\\n",
       "0     709                2.5        1260.0      0         0       152   \n",
       "1  208980                7.7      621849.0      0         0       228   \n",
       "2   77261                2.7      161382.0      0         1       500   \n",
       "3    7471               12.5        6341.0      0         0       161   \n",
       "4  136392                3.9      226640.0      0         1       287   \n",
       "\n",
       "   CHRISTIAN GENERIC  EASTERN ORTHODOX  HINDU  JEWISH  ...  WHITE RATE  \\\n",
       "0                138                 0      0       0  ...    0.968254   \n",
       "1                301                 8      0      43  ...    0.316984   \n",
       "2                116                 0      0       9  ...    0.912208   \n",
       "3                199                 0      0       0  ...    0.757510   \n",
       "4                191                 1      9       4  ...    0.892834   \n",
       "\n",
       "   BLACK RATE  NATIVE AMERICAN RATE  HAWAIIAN PACIFIC RATE  MULTI RATE  \\\n",
       "0    0.001587              0.014286               0.000000    0.008730   \n",
       "1    0.629272              0.004360               0.000917    0.009735   \n",
       "2    0.025505              0.002510               0.000539    0.010317   \n",
       "3    0.129665              0.011954               0.002299    0.012374   \n",
       "4    0.055987              0.003450               0.000847    0.009553   \n",
       "\n",
       "   VOTER TURNOUT RATE  DEMOCRAT                               NAME  STATE  \\\n",
       "0            0.562698         0                       Sioux County     NE   \n",
       "1            0.336062         1                     Baltimore city     MD   \n",
       "2            0.478746         1                  Chittenden County     VT   \n",
       "3            1.178205         0  Prince of Wales-Hyder Census Area     AK   \n",
       "4            0.601800         0                   St. Johns County     FL   \n",
       "\n",
       "   EDUCATION  \n",
       "0       93.6  \n",
       "1       82.6  \n",
       "2       93.8  \n",
       "3       90.5  \n",
       "4       93.8  \n",
       "\n",
       "[5 rows x 76 columns]"
      ]
     },
     "execution_count": 8,
     "metadata": {},
     "output_type": "execute_result"
    }
   ],
   "source": [
    "educationCol = [\"PERCENT OF ADULTS WITH LESS THAN A HIGH SCHOOL DIPLOMA,\", \"PERCENT OF ADULTS WITH A HIGH SCHOOL DIPLOMA ONLY,\", \"PERCENT OF ADULTS WITH A BACHELOR'S DEGREE OR HIGHER,\",\"PERCENT OF ADULTS COMPLETING SOME COLLEGE OR ASSOCIATE'S DEGREE,\"]\n",
    "merged['EDUCATION'] = merged[educationCol[1]] + merged[educationCol[2]] + merged[educationCol[3]]\n",
    "for x in educationCol: \n",
    "    merged.pop(x)\n",
    "merged.head()"
   ]
  },
  {
   "cell_type": "code",
   "execution_count": 9,
   "metadata": {
    "colab": {
     "base_uri": "https://localhost:8080/",
     "height": 490
    },
    "executionInfo": {
     "elapsed": 663,
     "status": "ok",
     "timestamp": 1664162360637,
     "user": {
      "displayName": "Nguyen Tuan Long",
      "userId": "10275884466683494737"
     },
     "user_tz": 420
    },
    "id": "zljDmBdjWrst",
    "outputId": "5f6c3d0a-0963-4c17-b83f-74e85d77c53f"
   },
   "outputs": [
    {
     "data": {
      "text/html": [
       "\n",
       "  <div id=\"df-27e07d2e-2279-4cfc-a183-384e0d029f7a\">\n",
       "    <div class=\"colab-df-container\">\n",
       "      <div>\n",
       "<style scoped>\n",
       "    .dataframe tbody tr th:only-of-type {\n",
       "        vertical-align: middle;\n",
       "    }\n",
       "\n",
       "    .dataframe tbody tr th {\n",
       "        vertical-align: top;\n",
       "    }\n",
       "\n",
       "    .dataframe thead th {\n",
       "        text-align: right;\n",
       "    }\n",
       "</style>\n",
       "<table border=\"1\" class=\"dataframe\">\n",
       "  <thead>\n",
       "    <tr style=\"text-align: right;\">\n",
       "      <th></th>\n",
       "      <th>VOTES</th>\n",
       "      <th>UNEMPLOYMENT RATE</th>\n",
       "      <th>POP ESTIMATE</th>\n",
       "      <th>MED HHINC</th>\n",
       "      <th>PER CAPITA INC</th>\n",
       "      <th>POVERTY UNDER 18 PCT</th>\n",
       "      <th>POVERTY ALL AGES PCT</th>\n",
       "      <th>DEEP POV ALL</th>\n",
       "      <th>DEEP POV CHILDREN</th>\n",
       "      <th>POPULATION</th>\n",
       "      <th>...</th>\n",
       "      <th>BLACK RATE</th>\n",
       "      <th>NATIVE AMERICAN RATE</th>\n",
       "      <th>HAWAIIAN PACIFIC RATE</th>\n",
       "      <th>MULTI RATE</th>\n",
       "      <th>VOTER TURNOUT RATE</th>\n",
       "      <th>DEMOCRAT</th>\n",
       "      <th>NAME</th>\n",
       "      <th>STATE</th>\n",
       "      <th>EDUCATION</th>\n",
       "      <th>RELIGION</th>\n",
       "    </tr>\n",
       "  </thead>\n",
       "  <tbody>\n",
       "    <tr>\n",
       "      <th>0</th>\n",
       "      <td>709</td>\n",
       "      <td>2.5</td>\n",
       "      <td>1260.0</td>\n",
       "      <td>47313.0</td>\n",
       "      <td>27669.0</td>\n",
       "      <td>22.9</td>\n",
       "      <td>16.0</td>\n",
       "      <td>3.440188</td>\n",
       "      <td>1.209677</td>\n",
       "      <td>1311.0</td>\n",
       "      <td>...</td>\n",
       "      <td>0.001587</td>\n",
       "      <td>0.014286</td>\n",
       "      <td>0.000000</td>\n",
       "      <td>0.008730</td>\n",
       "      <td>0.562698</td>\n",
       "      <td>0</td>\n",
       "      <td>Sioux County</td>\n",
       "      <td>NE</td>\n",
       "      <td>93.6</td>\n",
       "      <td>138</td>\n",
       "    </tr>\n",
       "    <tr>\n",
       "      <th>1</th>\n",
       "      <td>208980</td>\n",
       "      <td>7.7</td>\n",
       "      <td>621849.0</td>\n",
       "      <td>41895.0</td>\n",
       "      <td>25062.0</td>\n",
       "      <td>32.2</td>\n",
       "      <td>23.3</td>\n",
       "      <td>12.028210</td>\n",
       "      <td>19.282730</td>\n",
       "      <td>620961.0</td>\n",
       "      <td>...</td>\n",
       "      <td>0.629272</td>\n",
       "      <td>0.004360</td>\n",
       "      <td>0.000917</td>\n",
       "      <td>0.009735</td>\n",
       "      <td>0.336062</td>\n",
       "      <td>1</td>\n",
       "      <td>Baltimore city</td>\n",
       "      <td>MD</td>\n",
       "      <td>82.6</td>\n",
       "      <td>108</td>\n",
       "    </tr>\n",
       "    <tr>\n",
       "      <th>2</th>\n",
       "      <td>77261</td>\n",
       "      <td>2.7</td>\n",
       "      <td>161382.0</td>\n",
       "      <td>61908.0</td>\n",
       "      <td>33881.0</td>\n",
       "      <td>11.2</td>\n",
       "      <td>11.0</td>\n",
       "      <td>5.610802</td>\n",
       "      <td>5.049699</td>\n",
       "      <td>156545.0</td>\n",
       "      <td>...</td>\n",
       "      <td>0.025505</td>\n",
       "      <td>0.002510</td>\n",
       "      <td>0.000539</td>\n",
       "      <td>0.010317</td>\n",
       "      <td>0.478746</td>\n",
       "      <td>1</td>\n",
       "      <td>Chittenden County</td>\n",
       "      <td>VT</td>\n",
       "      <td>93.8</td>\n",
       "      <td>55</td>\n",
       "    </tr>\n",
       "    <tr>\n",
       "      <th>3</th>\n",
       "      <td>7471</td>\n",
       "      <td>12.5</td>\n",
       "      <td>6341.0</td>\n",
       "      <td>43245.0</td>\n",
       "      <td>24737.0</td>\n",
       "      <td>25.9</td>\n",
       "      <td>17.4</td>\n",
       "      <td>6.386688</td>\n",
       "      <td>10.078534</td>\n",
       "      <td>5559.0</td>\n",
       "      <td>...</td>\n",
       "      <td>0.129665</td>\n",
       "      <td>0.011954</td>\n",
       "      <td>0.002299</td>\n",
       "      <td>0.012374</td>\n",
       "      <td>1.178205</td>\n",
       "      <td>0</td>\n",
       "      <td>Prince of Wales-Hyder Census Area</td>\n",
       "      <td>AK</td>\n",
       "      <td>90.5</td>\n",
       "      <td>67</td>\n",
       "    </tr>\n",
       "    <tr>\n",
       "      <th>4</th>\n",
       "      <td>136392</td>\n",
       "      <td>3.9</td>\n",
       "      <td>226640.0</td>\n",
       "      <td>66560.0</td>\n",
       "      <td>37147.0</td>\n",
       "      <td>11.0</td>\n",
       "      <td>8.2</td>\n",
       "      <td>4.265533</td>\n",
       "      <td>5.254879</td>\n",
       "      <td>190039.0</td>\n",
       "      <td>...</td>\n",
       "      <td>0.055987</td>\n",
       "      <td>0.003450</td>\n",
       "      <td>0.000847</td>\n",
       "      <td>0.009553</td>\n",
       "      <td>0.601800</td>\n",
       "      <td>0</td>\n",
       "      <td>St. Johns County</td>\n",
       "      <td>FL</td>\n",
       "      <td>93.8</td>\n",
       "      <td>83</td>\n",
       "    </tr>\n",
       "  </tbody>\n",
       "</table>\n",
       "<p>5 rows × 60 columns</p>\n",
       "</div>\n",
       "      <button class=\"colab-df-convert\" onclick=\"convertToInteractive('df-27e07d2e-2279-4cfc-a183-384e0d029f7a')\"\n",
       "              title=\"Convert this dataframe to an interactive table.\"\n",
       "              style=\"display:none;\">\n",
       "        \n",
       "  <svg xmlns=\"http://www.w3.org/2000/svg\" height=\"24px\"viewBox=\"0 0 24 24\"\n",
       "       width=\"24px\">\n",
       "    <path d=\"M0 0h24v24H0V0z\" fill=\"none\"/>\n",
       "    <path d=\"M18.56 5.44l.94 2.06.94-2.06 2.06-.94-2.06-.94-.94-2.06-.94 2.06-2.06.94zm-11 1L8.5 8.5l.94-2.06 2.06-.94-2.06-.94L8.5 2.5l-.94 2.06-2.06.94zm10 10l.94 2.06.94-2.06 2.06-.94-2.06-.94-.94-2.06-.94 2.06-2.06.94z\"/><path d=\"M17.41 7.96l-1.37-1.37c-.4-.4-.92-.59-1.43-.59-.52 0-1.04.2-1.43.59L10.3 9.45l-7.72 7.72c-.78.78-.78 2.05 0 2.83L4 21.41c.39.39.9.59 1.41.59.51 0 1.02-.2 1.41-.59l7.78-7.78 2.81-2.81c.8-.78.8-2.07 0-2.86zM5.41 20L4 18.59l7.72-7.72 1.47 1.35L5.41 20z\"/>\n",
       "  </svg>\n",
       "      </button>\n",
       "      \n",
       "  <style>\n",
       "    .colab-df-container {\n",
       "      display:flex;\n",
       "      flex-wrap:wrap;\n",
       "      gap: 12px;\n",
       "    }\n",
       "\n",
       "    .colab-df-convert {\n",
       "      background-color: #E8F0FE;\n",
       "      border: none;\n",
       "      border-radius: 50%;\n",
       "      cursor: pointer;\n",
       "      display: none;\n",
       "      fill: #1967D2;\n",
       "      height: 32px;\n",
       "      padding: 0 0 0 0;\n",
       "      width: 32px;\n",
       "    }\n",
       "\n",
       "    .colab-df-convert:hover {\n",
       "      background-color: #E2EBFA;\n",
       "      box-shadow: 0px 1px 2px rgba(60, 64, 67, 0.3), 0px 1px 3px 1px rgba(60, 64, 67, 0.15);\n",
       "      fill: #174EA6;\n",
       "    }\n",
       "\n",
       "    [theme=dark] .colab-df-convert {\n",
       "      background-color: #3B4455;\n",
       "      fill: #D2E3FC;\n",
       "    }\n",
       "\n",
       "    [theme=dark] .colab-df-convert:hover {\n",
       "      background-color: #434B5C;\n",
       "      box-shadow: 0px 1px 3px 1px rgba(0, 0, 0, 0.15);\n",
       "      filter: drop-shadow(0px 1px 2px rgba(0, 0, 0, 0.3));\n",
       "      fill: #FFFFFF;\n",
       "    }\n",
       "  </style>\n",
       "\n",
       "      <script>\n",
       "        const buttonEl =\n",
       "          document.querySelector('#df-27e07d2e-2279-4cfc-a183-384e0d029f7a button.colab-df-convert');\n",
       "        buttonEl.style.display =\n",
       "          google.colab.kernel.accessAllowed ? 'block' : 'none';\n",
       "\n",
       "        async function convertToInteractive(key) {\n",
       "          const element = document.querySelector('#df-27e07d2e-2279-4cfc-a183-384e0d029f7a');\n",
       "          const dataTable =\n",
       "            await google.colab.kernel.invokeFunction('convertToInteractive',\n",
       "                                                     [key], {});\n",
       "          if (!dataTable) return;\n",
       "\n",
       "          const docLinkHtml = 'Like what you see? Visit the ' +\n",
       "            '<a target=\"_blank\" href=https://colab.research.google.com/notebooks/data_table.ipynb>data table notebook</a>'\n",
       "            + ' to learn more about interactive tables.';\n",
       "          element.innerHTML = '';\n",
       "          dataTable['output_type'] = 'display_data';\n",
       "          await google.colab.output.renderOutput(dataTable, element);\n",
       "          const docLink = document.createElement('div');\n",
       "          docLink.innerHTML = docLinkHtml;\n",
       "          element.appendChild(docLink);\n",
       "        }\n",
       "      </script>\n",
       "    </div>\n",
       "  </div>\n",
       "  "
      ],
      "text/plain": [
       "    VOTES  UNEMPLOYMENT RATE  POP ESTIMATE  MED HHINC  PER CAPITA INC  \\\n",
       "0     709                2.5        1260.0    47313.0         27669.0   \n",
       "1  208980                7.7      621849.0    41895.0         25062.0   \n",
       "2   77261                2.7      161382.0    61908.0         33881.0   \n",
       "3    7471               12.5        6341.0    43245.0         24737.0   \n",
       "4  136392                3.9      226640.0    66560.0         37147.0   \n",
       "\n",
       "   POVERTY UNDER 18 PCT  POVERTY ALL AGES PCT  DEEP POV ALL  \\\n",
       "0                  22.9                  16.0      3.440188   \n",
       "1                  32.2                  23.3     12.028210   \n",
       "2                  11.2                  11.0      5.610802   \n",
       "3                  25.9                  17.4      6.386688   \n",
       "4                  11.0                   8.2      4.265533   \n",
       "\n",
       "   DEEP POV CHILDREN  POPULATION  ...  BLACK RATE  NATIVE AMERICAN RATE  \\\n",
       "0           1.209677      1311.0  ...    0.001587              0.014286   \n",
       "1          19.282730    620961.0  ...    0.629272              0.004360   \n",
       "2           5.049699    156545.0  ...    0.025505              0.002510   \n",
       "3          10.078534      5559.0  ...    0.129665              0.011954   \n",
       "4           5.254879    190039.0  ...    0.055987              0.003450   \n",
       "\n",
       "   HAWAIIAN PACIFIC RATE  MULTI RATE  VOTER TURNOUT RATE  DEMOCRAT  \\\n",
       "0               0.000000    0.008730            0.562698         0   \n",
       "1               0.000917    0.009735            0.336062         1   \n",
       "2               0.000539    0.010317            0.478746         1   \n",
       "3               0.002299    0.012374            1.178205         0   \n",
       "4               0.000847    0.009553            0.601800         0   \n",
       "\n",
       "                                NAME  STATE  EDUCATION  RELIGION  \n",
       "0                       Sioux County     NE       93.6       138  \n",
       "1                     Baltimore city     MD       82.6       108  \n",
       "2                  Chittenden County     VT       93.8        55  \n",
       "3  Prince of Wales-Hyder Census Area     AK       90.5        67  \n",
       "4                   St. Johns County     FL       93.8        83  \n",
       "\n",
       "[5 rows x 60 columns]"
      ]
     },
     "execution_count": 9,
     "metadata": {},
     "output_type": "execute_result"
    }
   ],
   "source": [
    "reglionPop = ['AMISH', 'BUDDHIST',\n",
    "       'CATHOLIC', 'CHRISTIAN GENERIC', 'EASTERN ORTHODOX', 'HINDU', 'JEWISH',\n",
    "       'MAINLINE CHRISTIAN', 'MORMON', 'MUSLIM', 'NON-CATHOLIC CHRISTIAN',\n",
    "       'OTHER', 'OTHER CHRISTIAN', 'OTHER MISC', 'PENTECOSTAL / CHARISMATIC',\n",
    "       'PROTESTANT DENOMINATION', 'ZOROASTRIAN']\n",
    "merged['RELIGION'] = merged.iloc[:, 3:20].drop_duplicates().apply(lambda row: row.nlargest(3).values[-1],axis=1)\n",
    "for x in reglionPop:\n",
    "    merged.pop(x)\n",
    "merged.head()"
   ]
  },
  {
   "cell_type": "code",
   "execution_count": 10,
   "metadata": {
    "colab": {
     "base_uri": "https://localhost:8080/",
     "height": 490
    },
    "executionInfo": {
     "elapsed": 9,
     "status": "ok",
     "timestamp": 1664162360638,
     "user": {
      "displayName": "Nguyen Tuan Long",
      "userId": "10275884466683494737"
     },
     "user_tz": 420
    },
    "id": "Z96ZmYlgWrsu",
    "outputId": "26b09825-183e-40d2-a4f4-67aff731a593"
   },
   "outputs": [
    {
     "data": {
      "text/html": [
       "\n",
       "  <div id=\"df-7481016d-df0e-440c-8318-da0ea1304515\">\n",
       "    <div class=\"colab-df-container\">\n",
       "      <div>\n",
       "<style scoped>\n",
       "    .dataframe tbody tr th:only-of-type {\n",
       "        vertical-align: middle;\n",
       "    }\n",
       "\n",
       "    .dataframe tbody tr th {\n",
       "        vertical-align: top;\n",
       "    }\n",
       "\n",
       "    .dataframe thead th {\n",
       "        text-align: right;\n",
       "    }\n",
       "</style>\n",
       "<table border=\"1\" class=\"dataframe\">\n",
       "  <thead>\n",
       "    <tr style=\"text-align: right;\">\n",
       "      <th></th>\n",
       "      <th>VOTES</th>\n",
       "      <th>UNEMPLOYMENT RATE</th>\n",
       "      <th>POP ESTIMATE</th>\n",
       "      <th>MED HHINC</th>\n",
       "      <th>PER CAPITA INC</th>\n",
       "      <th>POVERTY UNDER 18 PCT</th>\n",
       "      <th>POVERTY ALL AGES PCT</th>\n",
       "      <th>DEEP POV ALL</th>\n",
       "      <th>DEEP POV CHILDREN</th>\n",
       "      <th>POPULATION</th>\n",
       "      <th>...</th>\n",
       "      <th>MULTI RATE</th>\n",
       "      <th>VOTER TURNOUT RATE</th>\n",
       "      <th>DEMOCRAT</th>\n",
       "      <th>NAME</th>\n",
       "      <th>STATE</th>\n",
       "      <th>EDUCATION</th>\n",
       "      <th>RELIGION</th>\n",
       "      <th>AGE OLD</th>\n",
       "      <th>AGE YOUNG</th>\n",
       "      <th>AGE ADULT</th>\n",
       "    </tr>\n",
       "  </thead>\n",
       "  <tbody>\n",
       "    <tr>\n",
       "      <th>0</th>\n",
       "      <td>709</td>\n",
       "      <td>2.5</td>\n",
       "      <td>1260.0</td>\n",
       "      <td>47313.0</td>\n",
       "      <td>27669.0</td>\n",
       "      <td>22.9</td>\n",
       "      <td>16.0</td>\n",
       "      <td>3.440188</td>\n",
       "      <td>1.209677</td>\n",
       "      <td>1311.0</td>\n",
       "      <td>...</td>\n",
       "      <td>0.008730</td>\n",
       "      <td>0.562698</td>\n",
       "      <td>0</td>\n",
       "      <td>Sioux County</td>\n",
       "      <td>NE</td>\n",
       "      <td>93.6</td>\n",
       "      <td>138</td>\n",
       "      <td>0.350794</td>\n",
       "      <td>0.266667</td>\n",
       "      <td>0.318254</td>\n",
       "    </tr>\n",
       "    <tr>\n",
       "      <th>1</th>\n",
       "      <td>208980</td>\n",
       "      <td>7.7</td>\n",
       "      <td>621849.0</td>\n",
       "      <td>41895.0</td>\n",
       "      <td>25062.0</td>\n",
       "      <td>32.2</td>\n",
       "      <td>23.3</td>\n",
       "      <td>12.028210</td>\n",
       "      <td>19.282730</td>\n",
       "      <td>620961.0</td>\n",
       "      <td>...</td>\n",
       "      <td>0.009735</td>\n",
       "      <td>0.336062</td>\n",
       "      <td>1</td>\n",
       "      <td>Baltimore city</td>\n",
       "      <td>MD</td>\n",
       "      <td>82.6</td>\n",
       "      <td>108</td>\n",
       "      <td>0.205249</td>\n",
       "      <td>0.322959</td>\n",
       "      <td>0.435202</td>\n",
       "    </tr>\n",
       "    <tr>\n",
       "      <th>2</th>\n",
       "      <td>77261</td>\n",
       "      <td>2.7</td>\n",
       "      <td>161382.0</td>\n",
       "      <td>61908.0</td>\n",
       "      <td>33881.0</td>\n",
       "      <td>11.2</td>\n",
       "      <td>11.0</td>\n",
       "      <td>5.610802</td>\n",
       "      <td>5.049699</td>\n",
       "      <td>156545.0</td>\n",
       "      <td>...</td>\n",
       "      <td>0.010317</td>\n",
       "      <td>0.478746</td>\n",
       "      <td>1</td>\n",
       "      <td>Chittenden County</td>\n",
       "      <td>VT</td>\n",
       "      <td>93.8</td>\n",
       "      <td>55</td>\n",
       "      <td>0.221964</td>\n",
       "      <td>0.342702</td>\n",
       "      <td>0.385663</td>\n",
       "    </tr>\n",
       "    <tr>\n",
       "      <th>3</th>\n",
       "      <td>7471</td>\n",
       "      <td>12.5</td>\n",
       "      <td>6341.0</td>\n",
       "      <td>43245.0</td>\n",
       "      <td>24737.0</td>\n",
       "      <td>25.9</td>\n",
       "      <td>17.4</td>\n",
       "      <td>6.386688</td>\n",
       "      <td>10.078534</td>\n",
       "      <td>5559.0</td>\n",
       "      <td>...</td>\n",
       "      <td>0.012374</td>\n",
       "      <td>1.178205</td>\n",
       "      <td>0</td>\n",
       "      <td>Prince of Wales-Hyder Census Area</td>\n",
       "      <td>AK</td>\n",
       "      <td>90.5</td>\n",
       "      <td>67</td>\n",
       "      <td>0.221781</td>\n",
       "      <td>0.319734</td>\n",
       "      <td>0.390365</td>\n",
       "    </tr>\n",
       "    <tr>\n",
       "      <th>4</th>\n",
       "      <td>136392</td>\n",
       "      <td>3.9</td>\n",
       "      <td>226640.0</td>\n",
       "      <td>66560.0</td>\n",
       "      <td>37147.0</td>\n",
       "      <td>11.0</td>\n",
       "      <td>8.2</td>\n",
       "      <td>4.265533</td>\n",
       "      <td>5.254879</td>\n",
       "      <td>190039.0</td>\n",
       "      <td>...</td>\n",
       "      <td>0.009553</td>\n",
       "      <td>0.601800</td>\n",
       "      <td>0</td>\n",
       "      <td>St. Johns County</td>\n",
       "      <td>FL</td>\n",
       "      <td>93.8</td>\n",
       "      <td>83</td>\n",
       "      <td>0.261882</td>\n",
       "      <td>0.286295</td>\n",
       "      <td>0.377837</td>\n",
       "    </tr>\n",
       "  </tbody>\n",
       "</table>\n",
       "<p>5 rows × 45 columns</p>\n",
       "</div>\n",
       "      <button class=\"colab-df-convert\" onclick=\"convertToInteractive('df-7481016d-df0e-440c-8318-da0ea1304515')\"\n",
       "              title=\"Convert this dataframe to an interactive table.\"\n",
       "              style=\"display:none;\">\n",
       "        \n",
       "  <svg xmlns=\"http://www.w3.org/2000/svg\" height=\"24px\"viewBox=\"0 0 24 24\"\n",
       "       width=\"24px\">\n",
       "    <path d=\"M0 0h24v24H0V0z\" fill=\"none\"/>\n",
       "    <path d=\"M18.56 5.44l.94 2.06.94-2.06 2.06-.94-2.06-.94-.94-2.06-.94 2.06-2.06.94zm-11 1L8.5 8.5l.94-2.06 2.06-.94-2.06-.94L8.5 2.5l-.94 2.06-2.06.94zm10 10l.94 2.06.94-2.06 2.06-.94-2.06-.94-.94-2.06-.94 2.06-2.06.94z\"/><path d=\"M17.41 7.96l-1.37-1.37c-.4-.4-.92-.59-1.43-.59-.52 0-1.04.2-1.43.59L10.3 9.45l-7.72 7.72c-.78.78-.78 2.05 0 2.83L4 21.41c.39.39.9.59 1.41.59.51 0 1.02-.2 1.41-.59l7.78-7.78 2.81-2.81c.8-.78.8-2.07 0-2.86zM5.41 20L4 18.59l7.72-7.72 1.47 1.35L5.41 20z\"/>\n",
       "  </svg>\n",
       "      </button>\n",
       "      \n",
       "  <style>\n",
       "    .colab-df-container {\n",
       "      display:flex;\n",
       "      flex-wrap:wrap;\n",
       "      gap: 12px;\n",
       "    }\n",
       "\n",
       "    .colab-df-convert {\n",
       "      background-color: #E8F0FE;\n",
       "      border: none;\n",
       "      border-radius: 50%;\n",
       "      cursor: pointer;\n",
       "      display: none;\n",
       "      fill: #1967D2;\n",
       "      height: 32px;\n",
       "      padding: 0 0 0 0;\n",
       "      width: 32px;\n",
       "    }\n",
       "\n",
       "    .colab-df-convert:hover {\n",
       "      background-color: #E2EBFA;\n",
       "      box-shadow: 0px 1px 2px rgba(60, 64, 67, 0.3), 0px 1px 3px 1px rgba(60, 64, 67, 0.15);\n",
       "      fill: #174EA6;\n",
       "    }\n",
       "\n",
       "    [theme=dark] .colab-df-convert {\n",
       "      background-color: #3B4455;\n",
       "      fill: #D2E3FC;\n",
       "    }\n",
       "\n",
       "    [theme=dark] .colab-df-convert:hover {\n",
       "      background-color: #434B5C;\n",
       "      box-shadow: 0px 1px 3px 1px rgba(0, 0, 0, 0.15);\n",
       "      filter: drop-shadow(0px 1px 2px rgba(0, 0, 0, 0.3));\n",
       "      fill: #FFFFFF;\n",
       "    }\n",
       "  </style>\n",
       "\n",
       "      <script>\n",
       "        const buttonEl =\n",
       "          document.querySelector('#df-7481016d-df0e-440c-8318-da0ea1304515 button.colab-df-convert');\n",
       "        buttonEl.style.display =\n",
       "          google.colab.kernel.accessAllowed ? 'block' : 'none';\n",
       "\n",
       "        async function convertToInteractive(key) {\n",
       "          const element = document.querySelector('#df-7481016d-df0e-440c-8318-da0ea1304515');\n",
       "          const dataTable =\n",
       "            await google.colab.kernel.invokeFunction('convertToInteractive',\n",
       "                                                     [key], {});\n",
       "          if (!dataTable) return;\n",
       "\n",
       "          const docLinkHtml = 'Like what you see? Visit the ' +\n",
       "            '<a target=\"_blank\" href=https://colab.research.google.com/notebooks/data_table.ipynb>data table notebook</a>'\n",
       "            + ' to learn more about interactive tables.';\n",
       "          element.innerHTML = '';\n",
       "          dataTable['output_type'] = 'display_data';\n",
       "          await google.colab.output.renderOutput(dataTable, element);\n",
       "          const docLink = document.createElement('div');\n",
       "          docLink.innerHTML = docLinkHtml;\n",
       "          element.appendChild(docLink);\n",
       "        }\n",
       "      </script>\n",
       "    </div>\n",
       "  </div>\n",
       "  "
      ],
      "text/plain": [
       "    VOTES  UNEMPLOYMENT RATE  POP ESTIMATE  MED HHINC  PER CAPITA INC  \\\n",
       "0     709                2.5        1260.0    47313.0         27669.0   \n",
       "1  208980                7.7      621849.0    41895.0         25062.0   \n",
       "2   77261                2.7      161382.0    61908.0         33881.0   \n",
       "3    7471               12.5        6341.0    43245.0         24737.0   \n",
       "4  136392                3.9      226640.0    66560.0         37147.0   \n",
       "\n",
       "   POVERTY UNDER 18 PCT  POVERTY ALL AGES PCT  DEEP POV ALL  \\\n",
       "0                  22.9                  16.0      3.440188   \n",
       "1                  32.2                  23.3     12.028210   \n",
       "2                  11.2                  11.0      5.610802   \n",
       "3                  25.9                  17.4      6.386688   \n",
       "4                  11.0                   8.2      4.265533   \n",
       "\n",
       "   DEEP POV CHILDREN  POPULATION  ...  MULTI RATE  VOTER TURNOUT RATE  \\\n",
       "0           1.209677      1311.0  ...    0.008730            0.562698   \n",
       "1          19.282730    620961.0  ...    0.009735            0.336062   \n",
       "2           5.049699    156545.0  ...    0.010317            0.478746   \n",
       "3          10.078534      5559.0  ...    0.012374            1.178205   \n",
       "4           5.254879    190039.0  ...    0.009553            0.601800   \n",
       "\n",
       "   DEMOCRAT                               NAME  STATE  EDUCATION  RELIGION  \\\n",
       "0         0                       Sioux County     NE       93.6       138   \n",
       "1         1                     Baltimore city     MD       82.6       108   \n",
       "2         1                  Chittenden County     VT       93.8        55   \n",
       "3         0  Prince of Wales-Hyder Census Area     AK       90.5        67   \n",
       "4         0                   St. Johns County     FL       93.8        83   \n",
       "\n",
       "    AGE OLD  AGE YOUNG  AGE ADULT  \n",
       "0  0.350794   0.266667   0.318254  \n",
       "1  0.205249   0.322959   0.435202  \n",
       "2  0.221964   0.342702   0.385663  \n",
       "3  0.221781   0.319734   0.390365  \n",
       "4  0.261882   0.286295   0.377837  \n",
       "\n",
       "[5 rows x 45 columns]"
      ]
     },
     "execution_count": 10,
     "metadata": {},
     "output_type": "execute_result"
    }
   ],
   "source": [
    "ageOld = ['55-59 RATE', '60-64 RATE', '65-69 RATE', '70-74 RATE',\n",
    "       '75-79 RATE', '80-84 RATE', '85+ RATE']\n",
    "ageYoung = ['0-4 RATE', '5-9 RATE', '10-14 RATE', '15-19 RATE', '20-24 RATE']\n",
    "ageAdult = ['25-29 RATE', '30-34 RATE', '35-39 RATE', '40-44 RATE', '45-49 RATE','50-54 RATE']\n",
    "merged['AGE OLD'] = merged[ageOld].sum(axis=1)\n",
    "merged['AGE YOUNG'] = merged[ageYoung].sum(axis=1)\n",
    "merged['AGE ADULT'] = merged[ageAdult].sum(axis=1)\n",
    "for x in ageOld:\n",
    "    merged.pop(x)\n",
    "for x in ageYoung:\n",
    "    merged.pop(x)\n",
    "for x in ageAdult:\n",
    "    merged.pop(x)\n",
    "    \n",
    "merged.head()"
   ]
  },
  {
   "cell_type": "code",
   "execution_count": 11,
   "metadata": {
    "colab": {
     "base_uri": "https://localhost:8080/",
     "height": 490
    },
    "executionInfo": {
     "elapsed": 1721,
     "status": "ok",
     "timestamp": 1664162362353,
     "user": {
      "displayName": "Nguyen Tuan Long",
      "userId": "10275884466683494737"
     },
     "user_tz": 420
    },
    "id": "v-ZKYkdyWrsw",
    "outputId": "5ecc7b71-1eb4-4610-fcb3-4ea39dff2bcd"
   },
   "outputs": [
    {
     "data": {
      "text/html": [
       "\n",
       "  <div id=\"df-2a5acb89-d391-4f8c-991b-3b43496f269b\">\n",
       "    <div class=\"colab-df-container\">\n",
       "      <div>\n",
       "<style scoped>\n",
       "    .dataframe tbody tr th:only-of-type {\n",
       "        vertical-align: middle;\n",
       "    }\n",
       "\n",
       "    .dataframe tbody tr th {\n",
       "        vertical-align: top;\n",
       "    }\n",
       "\n",
       "    .dataframe thead th {\n",
       "        text-align: right;\n",
       "    }\n",
       "</style>\n",
       "<table border=\"1\" class=\"dataframe\">\n",
       "  <thead>\n",
       "    <tr style=\"text-align: right;\">\n",
       "      <th></th>\n",
       "      <th>VOTES</th>\n",
       "      <th>UNEMPLOYMENT RATE</th>\n",
       "      <th>POP ESTIMATE</th>\n",
       "      <th>MED HHINC</th>\n",
       "      <th>PER CAPITA INC</th>\n",
       "      <th>POVERTY UNDER 18 PCT</th>\n",
       "      <th>POVERTY ALL AGES PCT</th>\n",
       "      <th>DEEP POV ALL</th>\n",
       "      <th>DEEP POV CHILDREN</th>\n",
       "      <th>POPULATION</th>\n",
       "      <th>...</th>\n",
       "      <th>DEMOCRAT</th>\n",
       "      <th>NAME</th>\n",
       "      <th>STATE</th>\n",
       "      <th>EDUCATION</th>\n",
       "      <th>RELIGION</th>\n",
       "      <th>AGE OLD</th>\n",
       "      <th>AGE YOUNG</th>\n",
       "      <th>AGE ADULT</th>\n",
       "      <th>ETHNIC FEMALE</th>\n",
       "      <th>ETHNIC MALE</th>\n",
       "    </tr>\n",
       "  </thead>\n",
       "  <tbody>\n",
       "    <tr>\n",
       "      <th>0</th>\n",
       "      <td>709</td>\n",
       "      <td>2.5</td>\n",
       "      <td>1260.0</td>\n",
       "      <td>47313.0</td>\n",
       "      <td>27669.0</td>\n",
       "      <td>22.9</td>\n",
       "      <td>16.0</td>\n",
       "      <td>3.440188</td>\n",
       "      <td>1.209677</td>\n",
       "      <td>1311.0</td>\n",
       "      <td>...</td>\n",
       "      <td>0</td>\n",
       "      <td>Sioux County</td>\n",
       "      <td>NE</td>\n",
       "      <td>93.6</td>\n",
       "      <td>138</td>\n",
       "      <td>0.350794</td>\n",
       "      <td>0.266667</td>\n",
       "      <td>0.318254</td>\n",
       "      <td>0.470635</td>\n",
       "      <td>0.497619</td>\n",
       "    </tr>\n",
       "    <tr>\n",
       "      <th>1</th>\n",
       "      <td>208980</td>\n",
       "      <td>7.7</td>\n",
       "      <td>621849.0</td>\n",
       "      <td>41895.0</td>\n",
       "      <td>25062.0</td>\n",
       "      <td>32.2</td>\n",
       "      <td>23.3</td>\n",
       "      <td>12.028210</td>\n",
       "      <td>19.282730</td>\n",
       "      <td>620961.0</td>\n",
       "      <td>...</td>\n",
       "      <td>1</td>\n",
       "      <td>Baltimore city</td>\n",
       "      <td>MD</td>\n",
       "      <td>82.6</td>\n",
       "      <td>108</td>\n",
       "      <td>0.205249</td>\n",
       "      <td>0.322959</td>\n",
       "      <td>0.435202</td>\n",
       "      <td>0.342236</td>\n",
       "      <td>0.287036</td>\n",
       "    </tr>\n",
       "    <tr>\n",
       "      <th>2</th>\n",
       "      <td>77261</td>\n",
       "      <td>2.7</td>\n",
       "      <td>161382.0</td>\n",
       "      <td>61908.0</td>\n",
       "      <td>33881.0</td>\n",
       "      <td>11.2</td>\n",
       "      <td>11.0</td>\n",
       "      <td>5.610802</td>\n",
       "      <td>5.049699</td>\n",
       "      <td>156545.0</td>\n",
       "      <td>...</td>\n",
       "      <td>1</td>\n",
       "      <td>Chittenden County</td>\n",
       "      <td>VT</td>\n",
       "      <td>93.8</td>\n",
       "      <td>55</td>\n",
       "      <td>0.221964</td>\n",
       "      <td>0.342702</td>\n",
       "      <td>0.385663</td>\n",
       "      <td>0.466372</td>\n",
       "      <td>0.445837</td>\n",
       "    </tr>\n",
       "    <tr>\n",
       "      <th>3</th>\n",
       "      <td>7471</td>\n",
       "      <td>12.5</td>\n",
       "      <td>6341.0</td>\n",
       "      <td>43245.0</td>\n",
       "      <td>24737.0</td>\n",
       "      <td>25.9</td>\n",
       "      <td>17.4</td>\n",
       "      <td>6.386688</td>\n",
       "      <td>10.078534</td>\n",
       "      <td>5559.0</td>\n",
       "      <td>...</td>\n",
       "      <td>0</td>\n",
       "      <td>Prince of Wales-Hyder Census Area</td>\n",
       "      <td>AK</td>\n",
       "      <td>90.5</td>\n",
       "      <td>67</td>\n",
       "      <td>0.221781</td>\n",
       "      <td>0.319734</td>\n",
       "      <td>0.390365</td>\n",
       "      <td>0.382214</td>\n",
       "      <td>0.375296</td>\n",
       "    </tr>\n",
       "    <tr>\n",
       "      <th>4</th>\n",
       "      <td>136392</td>\n",
       "      <td>3.9</td>\n",
       "      <td>226640.0</td>\n",
       "      <td>66560.0</td>\n",
       "      <td>37147.0</td>\n",
       "      <td>11.0</td>\n",
       "      <td>8.2</td>\n",
       "      <td>4.265533</td>\n",
       "      <td>5.254879</td>\n",
       "      <td>190039.0</td>\n",
       "      <td>...</td>\n",
       "      <td>0</td>\n",
       "      <td>St. Johns County</td>\n",
       "      <td>FL</td>\n",
       "      <td>93.8</td>\n",
       "      <td>83</td>\n",
       "      <td>0.261882</td>\n",
       "      <td>0.286295</td>\n",
       "      <td>0.377837</td>\n",
       "      <td>0.457739</td>\n",
       "      <td>0.435095</td>\n",
       "    </tr>\n",
       "  </tbody>\n",
       "</table>\n",
       "<p>5 rows × 33 columns</p>\n",
       "</div>\n",
       "      <button class=\"colab-df-convert\" onclick=\"convertToInteractive('df-2a5acb89-d391-4f8c-991b-3b43496f269b')\"\n",
       "              title=\"Convert this dataframe to an interactive table.\"\n",
       "              style=\"display:none;\">\n",
       "        \n",
       "  <svg xmlns=\"http://www.w3.org/2000/svg\" height=\"24px\"viewBox=\"0 0 24 24\"\n",
       "       width=\"24px\">\n",
       "    <path d=\"M0 0h24v24H0V0z\" fill=\"none\"/>\n",
       "    <path d=\"M18.56 5.44l.94 2.06.94-2.06 2.06-.94-2.06-.94-.94-2.06-.94 2.06-2.06.94zm-11 1L8.5 8.5l.94-2.06 2.06-.94-2.06-.94L8.5 2.5l-.94 2.06-2.06.94zm10 10l.94 2.06.94-2.06 2.06-.94-2.06-.94-.94-2.06-.94 2.06-2.06.94z\"/><path d=\"M17.41 7.96l-1.37-1.37c-.4-.4-.92-.59-1.43-.59-.52 0-1.04.2-1.43.59L10.3 9.45l-7.72 7.72c-.78.78-.78 2.05 0 2.83L4 21.41c.39.39.9.59 1.41.59.51 0 1.02-.2 1.41-.59l7.78-7.78 2.81-2.81c.8-.78.8-2.07 0-2.86zM5.41 20L4 18.59l7.72-7.72 1.47 1.35L5.41 20z\"/>\n",
       "  </svg>\n",
       "      </button>\n",
       "      \n",
       "  <style>\n",
       "    .colab-df-container {\n",
       "      display:flex;\n",
       "      flex-wrap:wrap;\n",
       "      gap: 12px;\n",
       "    }\n",
       "\n",
       "    .colab-df-convert {\n",
       "      background-color: #E8F0FE;\n",
       "      border: none;\n",
       "      border-radius: 50%;\n",
       "      cursor: pointer;\n",
       "      display: none;\n",
       "      fill: #1967D2;\n",
       "      height: 32px;\n",
       "      padding: 0 0 0 0;\n",
       "      width: 32px;\n",
       "    }\n",
       "\n",
       "    .colab-df-convert:hover {\n",
       "      background-color: #E2EBFA;\n",
       "      box-shadow: 0px 1px 2px rgba(60, 64, 67, 0.3), 0px 1px 3px 1px rgba(60, 64, 67, 0.15);\n",
       "      fill: #174EA6;\n",
       "    }\n",
       "\n",
       "    [theme=dark] .colab-df-convert {\n",
       "      background-color: #3B4455;\n",
       "      fill: #D2E3FC;\n",
       "    }\n",
       "\n",
       "    [theme=dark] .colab-df-convert:hover {\n",
       "      background-color: #434B5C;\n",
       "      box-shadow: 0px 1px 3px 1px rgba(0, 0, 0, 0.15);\n",
       "      filter: drop-shadow(0px 1px 2px rgba(0, 0, 0, 0.3));\n",
       "      fill: #FFFFFF;\n",
       "    }\n",
       "  </style>\n",
       "\n",
       "      <script>\n",
       "        const buttonEl =\n",
       "          document.querySelector('#df-2a5acb89-d391-4f8c-991b-3b43496f269b button.colab-df-convert');\n",
       "        buttonEl.style.display =\n",
       "          google.colab.kernel.accessAllowed ? 'block' : 'none';\n",
       "\n",
       "        async function convertToInteractive(key) {\n",
       "          const element = document.querySelector('#df-2a5acb89-d391-4f8c-991b-3b43496f269b');\n",
       "          const dataTable =\n",
       "            await google.colab.kernel.invokeFunction('convertToInteractive',\n",
       "                                                     [key], {});\n",
       "          if (!dataTable) return;\n",
       "\n",
       "          const docLinkHtml = 'Like what you see? Visit the ' +\n",
       "            '<a target=\"_blank\" href=https://colab.research.google.com/notebooks/data_table.ipynb>data table notebook</a>'\n",
       "            + ' to learn more about interactive tables.';\n",
       "          element.innerHTML = '';\n",
       "          dataTable['output_type'] = 'display_data';\n",
       "          await google.colab.output.renderOutput(dataTable, element);\n",
       "          const docLink = document.createElement('div');\n",
       "          docLink.innerHTML = docLinkHtml;\n",
       "          element.appendChild(docLink);\n",
       "        }\n",
       "      </script>\n",
       "    </div>\n",
       "  </div>\n",
       "  "
      ],
      "text/plain": [
       "    VOTES  UNEMPLOYMENT RATE  POP ESTIMATE  MED HHINC  PER CAPITA INC  \\\n",
       "0     709                2.5        1260.0    47313.0         27669.0   \n",
       "1  208980                7.7      621849.0    41895.0         25062.0   \n",
       "2   77261                2.7      161382.0    61908.0         33881.0   \n",
       "3    7471               12.5        6341.0    43245.0         24737.0   \n",
       "4  136392                3.9      226640.0    66560.0         37147.0   \n",
       "\n",
       "   POVERTY UNDER 18 PCT  POVERTY ALL AGES PCT  DEEP POV ALL  \\\n",
       "0                  22.9                  16.0      3.440188   \n",
       "1                  32.2                  23.3     12.028210   \n",
       "2                  11.2                  11.0      5.610802   \n",
       "3                  25.9                  17.4      6.386688   \n",
       "4                  11.0                   8.2      4.265533   \n",
       "\n",
       "   DEEP POV CHILDREN  POPULATION  ...  DEMOCRAT  \\\n",
       "0           1.209677      1311.0  ...         0   \n",
       "1          19.282730    620961.0  ...         1   \n",
       "2           5.049699    156545.0  ...         1   \n",
       "3          10.078534      5559.0  ...         0   \n",
       "4           5.254879    190039.0  ...         0   \n",
       "\n",
       "                                NAME  STATE  EDUCATION  RELIGION   AGE OLD  \\\n",
       "0                       Sioux County     NE       93.6       138  0.350794   \n",
       "1                     Baltimore city     MD       82.6       108  0.205249   \n",
       "2                  Chittenden County     VT       93.8        55  0.221964   \n",
       "3  Prince of Wales-Hyder Census Area     AK       90.5        67  0.221781   \n",
       "4                   St. Johns County     FL       93.8        83  0.261882   \n",
       "\n",
       "   AGE YOUNG  AGE ADULT  ETHNIC FEMALE  ETHNIC MALE  \n",
       "0   0.266667   0.318254       0.470635     0.497619  \n",
       "1   0.322959   0.435202       0.342236     0.287036  \n",
       "2   0.342702   0.385663       0.466372     0.445837  \n",
       "3   0.319734   0.390365       0.382214     0.375296  \n",
       "4   0.286295   0.377837       0.457739     0.435095  \n",
       "\n",
       "[5 rows x 33 columns]"
      ]
     },
     "execution_count": 11,
     "metadata": {},
     "output_type": "execute_result"
    }
   ],
   "source": [
    "import re\n",
    "ethnicFemale = []\n",
    "ethnicMale = []\n",
    "for x in merged.columns:\n",
    "    if (re.search(\"(.)*(FEMALE)\", x)):\n",
    "        ethnicFemale.append(x)\n",
    "    elif (re.search(\"(.)*(MALE)\", x)):\n",
    "        ethnicMale.append(x)\n",
    "# ethnicFemale\n",
    "# ethnicMale\n",
    "merged['ETHNIC FEMALE'] = merged[ethnicFemale].apply(lambda row: row.nlargest(2).values[-1],axis=1)\n",
    "merged['ETHNIC MALE'] = merged[ethnicMale].apply(lambda row: row.nlargest(2).values[-1],axis=1)\n",
    "\n",
    "for x in ethnicFemale:\n",
    "    merged.pop(x)\n",
    "for x in ethnicMale:\n",
    "    merged.pop(x)\n",
    "    \n",
    "merged.head()"
   ]
  },
  {
   "cell_type": "code",
   "execution_count": 12,
   "metadata": {
    "colab": {
     "base_uri": "https://localhost:8080/"
    },
    "executionInfo": {
     "elapsed": 14,
     "status": "ok",
     "timestamp": 1664162362354,
     "user": {
      "displayName": "Nguyen Tuan Long",
      "userId": "10275884466683494737"
     },
     "user_tz": 420
    },
    "id": "pb8nDDY5Wrsx",
    "outputId": "00a9371e-7df9-4fa1-b7ee-72f3cf2cd5af"
   },
   "outputs": [
    {
     "data": {
      "text/plain": [
       "Index(['VOTES', 'UNEMPLOYMENT RATE', 'POP ESTIMATE', 'MED HHINC',\n",
       "       'PER CAPITA INC', 'POVERTY ALL AGES PCT', 'DEEP POV ALL',\n",
       "       'DEEP POV CHILDREN', 'POPULATION', 'AREA IN SQUARE MILES - TOTAL AREA',\n",
       "       'WHITE RATE', 'BLACK RATE', 'NATIVE AMERICAN RATE',\n",
       "       'HAWAIIAN PACIFIC RATE', 'MULTI RATE', 'VOTER TURNOUT RATE', 'DEMOCRAT',\n",
       "       'NAME', 'STATE', 'EDUCATION', 'RELIGION', 'AGE OLD', 'AGE YOUNG',\n",
       "       'AGE ADULT', 'ETHNIC FEMALE', 'ETHNIC MALE'],\n",
       "      dtype='object')"
      ]
     },
     "execution_count": 12,
     "metadata": {},
     "output_type": "execute_result"
    }
   ],
   "source": [
    "removeFeature = ['POVERTY UNDER 18 PCT','HOUSING UNITS']\n",
    "for x in merged.columns:\n",
    "    if (re.search(\"^(AREA)\", x)) and not (re.search(\"(TOTAL AREA)\", x)):\n",
    "        removeFeature.append(x)\n",
    "    if (re.search(\"^(DENSITY)\", x)):\n",
    "        removeFeature.append(x)\n",
    "    if (re.search(\"^(AGE TOTAL POP)\", x)):\n",
    "        removeFeature.append(x)\n",
    "        \n",
    "for x in removeFeature:\n",
    "    merged.pop(x)\n",
    "    \n",
    "merged.columns"
   ]
  },
  {
   "cell_type": "markdown",
   "metadata": {
    "id": "eZ23wJ7nWrsy"
   },
   "source": [
    "snake_case: https://pandas.pydata.org/docs/reference/api/pandas.Series.str.replace.html"
   ]
  },
  {
   "cell_type": "markdown",
   "metadata": {
    "id": "gmADHRX2Wrsz"
   },
   "source": [
    "4)"
   ]
  },
  {
   "cell_type": "code",
   "execution_count": 13,
   "metadata": {
    "colab": {
     "base_uri": "https://localhost:8080/"
    },
    "executionInfo": {
     "elapsed": 12,
     "status": "ok",
     "timestamp": 1664162362354,
     "user": {
      "displayName": "Nguyen Tuan Long",
      "userId": "10275884466683494737"
     },
     "user_tz": 420
    },
    "id": "mFwTI-8XWrsz",
    "outputId": "d2c8a63d-29e0-4c54-aab4-18a98d898d6c"
   },
   "outputs": [
    {
     "data": {
      "text/plain": [
       "Index(['votes', 'unemployment', 'pop_estimate', 'med_hhinc', 'per_capita_inc',\n",
       "       'poverty_all_ages_pct', 'deep_pov_all', 'deep_pov_children',\n",
       "       'population', 'area', 'white', 'black', 'native_american',\n",
       "       'hawaiian_pacific', 'multi', 'voter_turnout', 'democrat', 'county',\n",
       "       'state', 'education', 'religion', 'age_old', 'age_young', 'age_adult',\n",
       "       'ethnic_female', 'ethnic_male'],\n",
       "      dtype='object')"
      ]
     },
     "execution_count": 13,
     "metadata": {},
     "output_type": "execute_result"
    }
   ],
   "source": [
    "merged.columns = [x.lower() for x in merged.columns]\n",
    "merged.columns = [x.replace(' rate','') for x in merged.columns]\n",
    "merged.columns = merged.columns.str.replace(\" \", \"_\")\n",
    "merged.columns = ['area' if x=='area_in_square_miles_-_total_area' else x for x in merged.columns]\n",
    "merged.columns = ['county' if x=='name' else x for x in merged.columns]\n",
    "merged.columns"
   ]
  },
  {
   "cell_type": "markdown",
   "metadata": {
    "id": "42dGoGw8Wrs0"
   },
   "source": [
    "5)"
   ]
  },
  {
   "cell_type": "markdown",
   "metadata": {
    "id": "oZENSdfLWrs1"
   },
   "source": [
    "https://stackoverflow.com/questions/26414913/normalize-columns-of-a-dataframe"
   ]
  },
  {
   "cell_type": "markdown",
   "metadata": {
    "id": "tmQgkeiBWrs1"
   },
   "source": [
    "https://docs.scipy.org/doc/scipy-0.14.0/reference/generated/scipy.stats.mstats.zscore.html"
   ]
  },
  {
   "cell_type": "code",
   "execution_count": 14,
   "metadata": {
    "colab": {
     "base_uri": "https://localhost:8080/",
     "height": 424
    },
    "executionInfo": {
     "elapsed": 10,
     "status": "ok",
     "timestamp": 1664162362355,
     "user": {
      "displayName": "Nguyen Tuan Long",
      "userId": "10275884466683494737"
     },
     "user_tz": 420
    },
    "id": "-Oe1tebtWrs2",
    "outputId": "d30d0698-d7dc-4cdf-d4e5-34862481d9cc"
   },
   "outputs": [
    {
     "data": {
      "text/html": [
       "\n",
       "  <div id=\"df-73254d98-79f2-4baf-8f17-daad8f92729e\">\n",
       "    <div class=\"colab-df-container\">\n",
       "      <div>\n",
       "<style scoped>\n",
       "    .dataframe tbody tr th:only-of-type {\n",
       "        vertical-align: middle;\n",
       "    }\n",
       "\n",
       "    .dataframe tbody tr th {\n",
       "        vertical-align: top;\n",
       "    }\n",
       "\n",
       "    .dataframe thead th {\n",
       "        text-align: right;\n",
       "    }\n",
       "</style>\n",
       "<table border=\"1\" class=\"dataframe\">\n",
       "  <thead>\n",
       "    <tr style=\"text-align: right;\">\n",
       "      <th></th>\n",
       "      <th>population</th>\n",
       "      <th>pop_estimate</th>\n",
       "      <th>area</th>\n",
       "      <th>med_hhinc</th>\n",
       "      <th>per_capita_inc</th>\n",
       "      <th>unemployment</th>\n",
       "      <th>voter_turnout</th>\n",
       "    </tr>\n",
       "  </thead>\n",
       "  <tbody>\n",
       "    <tr>\n",
       "      <th>0</th>\n",
       "      <td>-0.309946</td>\n",
       "      <td>-0.307666</td>\n",
       "      <td>0.224357</td>\n",
       "      <td>0.376591</td>\n",
       "      <td>0.434979</td>\n",
       "      <td>0.104167</td>\n",
       "      <td>0.046170</td>\n",
       "    </tr>\n",
       "    <tr>\n",
       "      <th>1</th>\n",
       "      <td>1.669843</td>\n",
       "      <td>1.574100</td>\n",
       "      <td>-0.291593</td>\n",
       "      <td>0.333466</td>\n",
       "      <td>0.393995</td>\n",
       "      <td>0.320833</td>\n",
       "      <td>0.027574</td>\n",
       "    </tr>\n",
       "    <tr>\n",
       "      <th>2</th>\n",
       "      <td>0.186029</td>\n",
       "      <td>0.177860</td>\n",
       "      <td>-0.153882</td>\n",
       "      <td>0.492761</td>\n",
       "      <td>0.532636</td>\n",
       "      <td>0.112500</td>\n",
       "      <td>0.039281</td>\n",
       "    </tr>\n",
       "    <tr>\n",
       "      <th>3</th>\n",
       "      <td>-0.296373</td>\n",
       "      <td>-0.292259</td>\n",
       "      <td>1.691133</td>\n",
       "      <td>0.344211</td>\n",
       "      <td>0.388885</td>\n",
       "      <td>0.520833</td>\n",
       "      <td>0.096672</td>\n",
       "    </tr>\n",
       "    <tr>\n",
       "      <th>4</th>\n",
       "      <td>0.293042</td>\n",
       "      <td>0.375737</td>\n",
       "      <td>-0.101063</td>\n",
       "      <td>0.529789</td>\n",
       "      <td>0.583981</td>\n",
       "      <td>0.162500</td>\n",
       "      <td>0.049378</td>\n",
       "    </tr>\n",
       "    <tr>\n",
       "      <th>...</th>\n",
       "      <td>...</td>\n",
       "      <td>...</td>\n",
       "      <td>...</td>\n",
       "      <td>...</td>\n",
       "      <td>...</td>\n",
       "      <td>...</td>\n",
       "      <td>...</td>\n",
       "    </tr>\n",
       "    <tr>\n",
       "      <th>3135</th>\n",
       "      <td>-0.247860</td>\n",
       "      <td>-0.248995</td>\n",
       "      <td>-0.205028</td>\n",
       "      <td>0.407697</td>\n",
       "      <td>0.397846</td>\n",
       "      <td>0.204167</td>\n",
       "      <td>0.040597</td>\n",
       "    </tr>\n",
       "    <tr>\n",
       "      <th>3136</th>\n",
       "      <td>-0.181097</td>\n",
       "      <td>-0.189761</td>\n",
       "      <td>-0.040031</td>\n",
       "      <td>0.325077</td>\n",
       "      <td>0.344458</td>\n",
       "      <td>0.266667</td>\n",
       "      <td>0.033588</td>\n",
       "    </tr>\n",
       "    <tr>\n",
       "      <th>3137</th>\n",
       "      <td>-0.307588</td>\n",
       "      <td>-0.305337</td>\n",
       "      <td>-0.166398</td>\n",
       "      <td>0.321853</td>\n",
       "      <td>0.344899</td>\n",
       "      <td>0.100000</td>\n",
       "      <td>0.039164</td>\n",
       "    </tr>\n",
       "    <tr>\n",
       "      <th>3138</th>\n",
       "      <td>-0.208172</td>\n",
       "      <td>-0.213118</td>\n",
       "      <td>-0.173048</td>\n",
       "      <td>0.326955</td>\n",
       "      <td>0.353576</td>\n",
       "      <td>0.283333</td>\n",
       "      <td>0.034810</td>\n",
       "    </tr>\n",
       "    <tr>\n",
       "      <th>3139</th>\n",
       "      <td>-0.226364</td>\n",
       "      <td>-0.219580</td>\n",
       "      <td>0.192490</td>\n",
       "      <td>0.434887</td>\n",
       "      <td>0.476230</td>\n",
       "      <td>0.125000</td>\n",
       "      <td>0.042086</td>\n",
       "    </tr>\n",
       "  </tbody>\n",
       "</table>\n",
       "<p>3140 rows × 7 columns</p>\n",
       "</div>\n",
       "      <button class=\"colab-df-convert\" onclick=\"convertToInteractive('df-73254d98-79f2-4baf-8f17-daad8f92729e')\"\n",
       "              title=\"Convert this dataframe to an interactive table.\"\n",
       "              style=\"display:none;\">\n",
       "        \n",
       "  <svg xmlns=\"http://www.w3.org/2000/svg\" height=\"24px\"viewBox=\"0 0 24 24\"\n",
       "       width=\"24px\">\n",
       "    <path d=\"M0 0h24v24H0V0z\" fill=\"none\"/>\n",
       "    <path d=\"M18.56 5.44l.94 2.06.94-2.06 2.06-.94-2.06-.94-.94-2.06-.94 2.06-2.06.94zm-11 1L8.5 8.5l.94-2.06 2.06-.94-2.06-.94L8.5 2.5l-.94 2.06-2.06.94zm10 10l.94 2.06.94-2.06 2.06-.94-2.06-.94-.94-2.06-.94 2.06-2.06.94z\"/><path d=\"M17.41 7.96l-1.37-1.37c-.4-.4-.92-.59-1.43-.59-.52 0-1.04.2-1.43.59L10.3 9.45l-7.72 7.72c-.78.78-.78 2.05 0 2.83L4 21.41c.39.39.9.59 1.41.59.51 0 1.02-.2 1.41-.59l7.78-7.78 2.81-2.81c.8-.78.8-2.07 0-2.86zM5.41 20L4 18.59l7.72-7.72 1.47 1.35L5.41 20z\"/>\n",
       "  </svg>\n",
       "      </button>\n",
       "      \n",
       "  <style>\n",
       "    .colab-df-container {\n",
       "      display:flex;\n",
       "      flex-wrap:wrap;\n",
       "      gap: 12px;\n",
       "    }\n",
       "\n",
       "    .colab-df-convert {\n",
       "      background-color: #E8F0FE;\n",
       "      border: none;\n",
       "      border-radius: 50%;\n",
       "      cursor: pointer;\n",
       "      display: none;\n",
       "      fill: #1967D2;\n",
       "      height: 32px;\n",
       "      padding: 0 0 0 0;\n",
       "      width: 32px;\n",
       "    }\n",
       "\n",
       "    .colab-df-convert:hover {\n",
       "      background-color: #E2EBFA;\n",
       "      box-shadow: 0px 1px 2px rgba(60, 64, 67, 0.3), 0px 1px 3px 1px rgba(60, 64, 67, 0.15);\n",
       "      fill: #174EA6;\n",
       "    }\n",
       "\n",
       "    [theme=dark] .colab-df-convert {\n",
       "      background-color: #3B4455;\n",
       "      fill: #D2E3FC;\n",
       "    }\n",
       "\n",
       "    [theme=dark] .colab-df-convert:hover {\n",
       "      background-color: #434B5C;\n",
       "      box-shadow: 0px 1px 3px 1px rgba(0, 0, 0, 0.15);\n",
       "      filter: drop-shadow(0px 1px 2px rgba(0, 0, 0, 0.3));\n",
       "      fill: #FFFFFF;\n",
       "    }\n",
       "  </style>\n",
       "\n",
       "      <script>\n",
       "        const buttonEl =\n",
       "          document.querySelector('#df-73254d98-79f2-4baf-8f17-daad8f92729e button.colab-df-convert');\n",
       "        buttonEl.style.display =\n",
       "          google.colab.kernel.accessAllowed ? 'block' : 'none';\n",
       "\n",
       "        async function convertToInteractive(key) {\n",
       "          const element = document.querySelector('#df-73254d98-79f2-4baf-8f17-daad8f92729e');\n",
       "          const dataTable =\n",
       "            await google.colab.kernel.invokeFunction('convertToInteractive',\n",
       "                                                     [key], {});\n",
       "          if (!dataTable) return;\n",
       "\n",
       "          const docLinkHtml = 'Like what you see? Visit the ' +\n",
       "            '<a target=\"_blank\" href=https://colab.research.google.com/notebooks/data_table.ipynb>data table notebook</a>'\n",
       "            + ' to learn more about interactive tables.';\n",
       "          element.innerHTML = '';\n",
       "          dataTable['output_type'] = 'display_data';\n",
       "          await google.colab.output.renderOutput(dataTable, element);\n",
       "          const docLink = document.createElement('div');\n",
       "          docLink.innerHTML = docLinkHtml;\n",
       "          element.appendChild(docLink);\n",
       "        }\n",
       "      </script>\n",
       "    </div>\n",
       "  </div>\n",
       "  "
      ],
      "text/plain": [
       "      population  pop_estimate      area  med_hhinc  per_capita_inc  \\\n",
       "0      -0.309946     -0.307666  0.224357   0.376591        0.434979   \n",
       "1       1.669843      1.574100 -0.291593   0.333466        0.393995   \n",
       "2       0.186029      0.177860 -0.153882   0.492761        0.532636   \n",
       "3      -0.296373     -0.292259  1.691133   0.344211        0.388885   \n",
       "4       0.293042      0.375737 -0.101063   0.529789        0.583981   \n",
       "...          ...           ...       ...        ...             ...   \n",
       "3135   -0.247860     -0.248995 -0.205028   0.407697        0.397846   \n",
       "3136   -0.181097     -0.189761 -0.040031   0.325077        0.344458   \n",
       "3137   -0.307588     -0.305337 -0.166398   0.321853        0.344899   \n",
       "3138   -0.208172     -0.213118 -0.173048   0.326955        0.353576   \n",
       "3139   -0.226364     -0.219580  0.192490   0.434887        0.476230   \n",
       "\n",
       "      unemployment  voter_turnout  \n",
       "0         0.104167       0.046170  \n",
       "1         0.320833       0.027574  \n",
       "2         0.112500       0.039281  \n",
       "3         0.520833       0.096672  \n",
       "4         0.162500       0.049378  \n",
       "...            ...            ...  \n",
       "3135      0.204167       0.040597  \n",
       "3136      0.266667       0.033588  \n",
       "3137      0.100000       0.039164  \n",
       "3138      0.283333       0.034810  \n",
       "3139      0.125000       0.042086  \n",
       "\n",
       "[3140 rows x 7 columns]"
      ]
     },
     "execution_count": 14,
     "metadata": {},
     "output_type": "execute_result"
    }
   ],
   "source": [
    "features = ['population', 'pop_estimate','area']\n",
    "rate = ['med_hhinc','per_capita_inc','unemployment','voter_turnout']\n",
    "from scipy.stats import zscore\n",
    "normalized_data = merged[features].apply(zscore)\n",
    "normalized_rate = merged[rate].apply(lambda x: x/x.max(), axis=0)\n",
    "pd.concat([normalized_data,normalized_rate],axis=1)"
   ]
  },
  {
   "cell_type": "markdown",
   "metadata": {
    "id": "9miFiHb9Wrs3"
   },
   "source": [
    "6)"
   ]
  },
  {
   "cell_type": "code",
   "execution_count": 15,
   "metadata": {
    "colab": {
     "base_uri": "https://localhost:8080/"
    },
    "executionInfo": {
     "elapsed": 9,
     "status": "ok",
     "timestamp": 1664162362355,
     "user": {
      "displayName": "Nguyen Tuan Long",
      "userId": "10275884466683494737"
     },
     "user_tz": 420
    },
    "id": "s2VSgMUmWrs3",
    "outputId": "ec95c535-cf4d-4caa-d394-681807d82cab"
   },
   "outputs": [
    {
     "data": {
      "text/plain": [
       "102725.36594745223"
      ]
     },
     "execution_count": 15,
     "metadata": {},
     "output_type": "execute_result"
    }
   ],
   "source": [
    "# Mean of pop_estimate\n",
    "merged['pop_estimate'].mean()"
   ]
  },
  {
   "cell_type": "code",
   "execution_count": 16,
   "metadata": {
    "colab": {
     "base_uri": "https://localhost:8080/"
    },
    "executionInfo": {
     "elapsed": 26,
     "status": "ok",
     "timestamp": 1664162362606,
     "user": {
      "displayName": "Nguyen Tuan Long",
      "userId": "10275884466683494737"
     },
     "user_tz": 420
    },
    "id": "jwfkGNBaWrs4",
    "outputId": "a2848188-0765-4886-c173-4f9b00d39934"
   },
   "outputs": [
    {
     "data": {
      "text/plain": [
       "98320.26751592357"
      ]
     },
     "execution_count": 16,
     "metadata": {},
     "output_type": "execute_result"
    }
   ],
   "source": [
    "# Mean of population\n",
    "merged['population'].mean()"
   ]
  },
  {
   "cell_type": "code",
   "execution_count": 17,
   "metadata": {
    "colab": {
     "base_uri": "https://localhost:8080/"
    },
    "executionInfo": {
     "elapsed": 23,
     "status": "ok",
     "timestamp": 1664162362606,
     "user": {
      "displayName": "Nguyen Tuan Long",
      "userId": "10275884466683494737"
     },
     "user_tz": 420
    },
    "id": "OcdBzjpZWrs5",
    "outputId": "e847b633-9a1d-44e3-bf93-1a946edab63f"
   },
   "outputs": [
    {
     "data": {
      "text/plain": [
       "329843.3798308157"
      ]
     },
     "execution_count": 17,
     "metadata": {},
     "output_type": "execute_result"
    }
   ],
   "source": [
    "# standard deviation of pop_estimate\n",
    "merged['pop_estimate'].std()"
   ]
  },
  {
   "cell_type": "code",
   "execution_count": 18,
   "metadata": {
    "colab": {
     "base_uri": "https://localhost:8080/"
    },
    "executionInfo": {
     "elapsed": 19,
     "status": "ok",
     "timestamp": 1664162362606,
     "user": {
      "displayName": "Nguyen Tuan Long",
      "userId": "10275884466683494737"
     },
     "user_tz": 420
    },
    "id": "kFNrDeV9Wrs6",
    "outputId": "672c8353-a4b2-41c8-9bbf-242ee5d0932e"
   },
   "outputs": [
    {
     "data": {
      "text/plain": [
       "313037.82258524327"
      ]
     },
     "execution_count": 18,
     "metadata": {},
     "output_type": "execute_result"
    }
   ],
   "source": [
    "# standard deviation of population\n",
    "merged['population'].std()"
   ]
  },
  {
   "cell_type": "code",
   "execution_count": 19,
   "metadata": {
    "colab": {
     "base_uri": "https://localhost:8080/"
    },
    "executionInfo": {
     "elapsed": 18,
     "status": "ok",
     "timestamp": 1664162362607,
     "user": {
      "displayName": "Nguyen Tuan Long",
      "userId": "10275884466683494737"
     },
     "user_tz": 420
    },
    "id": "CBs4alJLWrs8",
    "outputId": "b1bc086b-1157-4210-896a-43b8e931a836"
   },
   "outputs": [
    {
     "data": {
      "text/plain": [
       "0         1260.0\n",
       "1       621849.0\n",
       "2       161382.0\n",
       "3         6341.0\n",
       "4       226640.0\n",
       "          ...   \n",
       "3135     20609.0\n",
       "3136     40144.0\n",
       "3137      2028.0\n",
       "3138     32441.0\n",
       "3139     30310.0\n",
       "Name: pop_estimate, Length: 3140, dtype: float64"
      ]
     },
     "execution_count": 19,
     "metadata": {},
     "output_type": "execute_result"
    }
   ],
   "source": [
    "# Correlation Score Above 0.9\n",
    "merged[['population','pop_estimate']].corr()\n",
    "merged.pop('pop_estimate')"
   ]
  },
  {
   "cell_type": "code",
   "execution_count": 20,
   "metadata": {
    "colab": {
     "base_uri": "https://localhost:8080/"
    },
    "executionInfo": {
     "elapsed": 16,
     "status": "ok",
     "timestamp": 1664162362608,
     "user": {
      "displayName": "Nguyen Tuan Long",
      "userId": "10275884466683494737"
     },
     "user_tz": 420
    },
    "id": "GUWtx_q5Wrs9",
    "outputId": "22d73161-909b-44b3-ed4d-d16bb6a2eeda"
   },
   "outputs": [
    {
     "data": {
      "text/plain": [
       "0.437952565"
      ]
     },
     "execution_count": 20,
     "metadata": {},
     "output_type": "execute_result"
    }
   ],
   "source": [
    "# median of voter_turnout_rate   \n",
    "merged['voter_turnout'].median()"
   ]
  },
  {
   "cell_type": "code",
   "execution_count": 21,
   "metadata": {
    "colab": {
     "base_uri": "https://localhost:8080/"
    },
    "executionInfo": {
     "elapsed": 14,
     "status": "ok",
     "timestamp": 1664162362609,
     "user": {
      "displayName": "Nguyen Tuan Long",
      "userId": "10275884466683494737"
     },
     "user_tz": 420
    },
    "id": "bViGN3lLWrs-",
    "outputId": "f16e0a71-53cd-44c3-b1a3-a4419fa1da10"
   },
   "outputs": [
    {
     "data": {
      "text/plain": [
       "5.3"
      ]
     },
     "execution_count": 21,
     "metadata": {},
     "output_type": "execute_result"
    }
   ],
   "source": [
    "# median of voter_turnout_rate   \n",
    "merged['unemployment'].median()"
   ]
  },
  {
   "cell_type": "code",
   "execution_count": 22,
   "metadata": {
    "colab": {
     "base_uri": "https://localhost:8080/"
    },
    "executionInfo": {
     "elapsed": 11,
     "status": "ok",
     "timestamp": 1664162362609,
     "user": {
      "displayName": "Nguyen Tuan Long",
      "userId": "10275884466683494737"
     },
     "user_tz": 420
    },
    "id": "sco7fKajWrs-",
    "outputId": "0ef2e369-ab70-4c29-c76e-9d92433cf07f"
   },
   "outputs": [
    {
     "data": {
      "text/plain": [
       "0.25    0.384838\n",
       "0.50    0.437953\n",
       "0.75    0.491642\n",
       "Name: voter_turnout, dtype: float64"
      ]
     },
     "execution_count": 22,
     "metadata": {},
     "output_type": "execute_result"
    }
   ],
   "source": [
    "# Quartile of voter\n",
    "merged['voter_turnout'].quantile([0.25,0.5,0.75])"
   ]
  },
  {
   "cell_type": "code",
   "execution_count": 23,
   "metadata": {
    "colab": {
     "base_uri": "https://localhost:8080/"
    },
    "executionInfo": {
     "elapsed": 8,
     "status": "ok",
     "timestamp": 1664162362609,
     "user": {
      "displayName": "Nguyen Tuan Long",
      "userId": "10275884466683494737"
     },
     "user_tz": 420
    },
    "id": "c0gUhEbGWrs_",
    "outputId": "c44d5a05-3f09-4911-fb35-ccdfbe975e04"
   },
   "outputs": [
    {
     "data": {
      "text/plain": [
       "0.25    4.2\n",
       "0.50    5.3\n",
       "0.75    6.5\n",
       "Name: unemployment, dtype: float64"
      ]
     },
     "execution_count": 23,
     "metadata": {},
     "output_type": "execute_result"
    }
   ],
   "source": [
    "#Quartile of unemployment_rate\n",
    "merged['unemployment'].quantile([0.25,0.5,0.75])"
   ]
  },
  {
   "cell_type": "code",
   "execution_count": 24,
   "metadata": {
    "colab": {
     "base_uri": "https://localhost:8080/"
    },
    "executionInfo": {
     "elapsed": 9,
     "status": "ok",
     "timestamp": 1664162362812,
     "user": {
      "displayName": "Nguyen Tuan Long",
      "userId": "10275884466683494737"
     },
     "user_tz": 420
    },
    "id": "oQgEI_SBWrtA",
    "outputId": "782139c5-e985-4d8c-b1cc-10d75f221516"
   },
   "outputs": [
    {
     "data": {
      "text/plain": [
       "0.10680454075000001"
      ]
     },
     "execution_count": 24,
     "metadata": {},
     "output_type": "execute_result"
    }
   ],
   "source": [
    "#IQR [0.75 - 0.25] 0.75\n",
    "merged['voter_turnout'].quantile(0.75)-merged['voter_turnout'].quantile(0.25)"
   ]
  },
  {
   "cell_type": "code",
   "execution_count": 25,
   "metadata": {
    "colab": {
     "base_uri": "https://localhost:8080/"
    },
    "executionInfo": {
     "elapsed": 9,
     "status": "ok",
     "timestamp": 1664162362813,
     "user": {
      "displayName": "Nguyen Tuan Long",
      "userId": "10275884466683494737"
     },
     "user_tz": 420
    },
    "id": "7sLWdbbHWrtA",
    "outputId": "a0e3f26e-781a-4b89-ac6f-96019e29f88b"
   },
   "outputs": [
    {
     "data": {
      "text/plain": [
       "2.3"
      ]
     },
     "execution_count": 25,
     "metadata": {},
     "output_type": "execute_result"
    }
   ],
   "source": [
    "#IQR [0.75 - 0.25] 0.75\n",
    "merged['unemployment'].quantile(0.75)-merged['unemployment'].quantile(0.25)"
   ]
  },
  {
   "cell_type": "code",
   "execution_count": 26,
   "metadata": {
    "colab": {
     "base_uri": "https://localhost:8080/",
     "height": 81
    },
    "executionInfo": {
     "elapsed": 7,
     "status": "ok",
     "timestamp": 1664162362813,
     "user": {
      "displayName": "Nguyen Tuan Long",
      "userId": "10275884466683494737"
     },
     "user_tz": 420
    },
    "id": "RFJGDaOJWrtB",
    "outputId": "491090d3-6ce3-4fb0-cf95-532ecc035bdc"
   },
   "outputs": [
    {
     "data": {
      "text/html": [
       "\n",
       "  <div id=\"df-35fb288b-d33c-4e39-956b-74d4215a8ec0\">\n",
       "    <div class=\"colab-df-container\">\n",
       "      <div>\n",
       "<style scoped>\n",
       "    .dataframe tbody tr th:only-of-type {\n",
       "        vertical-align: middle;\n",
       "    }\n",
       "\n",
       "    .dataframe tbody tr th {\n",
       "        vertical-align: top;\n",
       "    }\n",
       "\n",
       "    .dataframe thead th {\n",
       "        text-align: right;\n",
       "    }\n",
       "</style>\n",
       "<table border=\"1\" class=\"dataframe\">\n",
       "  <thead>\n",
       "    <tr style=\"text-align: right;\">\n",
       "      <th></th>\n",
       "      <th>religion</th>\n",
       "      <th>ethnic_female</th>\n",
       "    </tr>\n",
       "  </thead>\n",
       "  <tbody>\n",
       "    <tr>\n",
       "      <th>0</th>\n",
       "      <td>103</td>\n",
       "      <td>0.382214</td>\n",
       "    </tr>\n",
       "  </tbody>\n",
       "</table>\n",
       "</div>\n",
       "      <button class=\"colab-df-convert\" onclick=\"convertToInteractive('df-35fb288b-d33c-4e39-956b-74d4215a8ec0')\"\n",
       "              title=\"Convert this dataframe to an interactive table.\"\n",
       "              style=\"display:none;\">\n",
       "        \n",
       "  <svg xmlns=\"http://www.w3.org/2000/svg\" height=\"24px\"viewBox=\"0 0 24 24\"\n",
       "       width=\"24px\">\n",
       "    <path d=\"M0 0h24v24H0V0z\" fill=\"none\"/>\n",
       "    <path d=\"M18.56 5.44l.94 2.06.94-2.06 2.06-.94-2.06-.94-.94-2.06-.94 2.06-2.06.94zm-11 1L8.5 8.5l.94-2.06 2.06-.94-2.06-.94L8.5 2.5l-.94 2.06-2.06.94zm10 10l.94 2.06.94-2.06 2.06-.94-2.06-.94-.94-2.06-.94 2.06-2.06.94z\"/><path d=\"M17.41 7.96l-1.37-1.37c-.4-.4-.92-.59-1.43-.59-.52 0-1.04.2-1.43.59L10.3 9.45l-7.72 7.72c-.78.78-.78 2.05 0 2.83L4 21.41c.39.39.9.59 1.41.59.51 0 1.02-.2 1.41-.59l7.78-7.78 2.81-2.81c.8-.78.8-2.07 0-2.86zM5.41 20L4 18.59l7.72-7.72 1.47 1.35L5.41 20z\"/>\n",
       "  </svg>\n",
       "      </button>\n",
       "      \n",
       "  <style>\n",
       "    .colab-df-container {\n",
       "      display:flex;\n",
       "      flex-wrap:wrap;\n",
       "      gap: 12px;\n",
       "    }\n",
       "\n",
       "    .colab-df-convert {\n",
       "      background-color: #E8F0FE;\n",
       "      border: none;\n",
       "      border-radius: 50%;\n",
       "      cursor: pointer;\n",
       "      display: none;\n",
       "      fill: #1967D2;\n",
       "      height: 32px;\n",
       "      padding: 0 0 0 0;\n",
       "      width: 32px;\n",
       "    }\n",
       "\n",
       "    .colab-df-convert:hover {\n",
       "      background-color: #E2EBFA;\n",
       "      box-shadow: 0px 1px 2px rgba(60, 64, 67, 0.3), 0px 1px 3px 1px rgba(60, 64, 67, 0.15);\n",
       "      fill: #174EA6;\n",
       "    }\n",
       "\n",
       "    [theme=dark] .colab-df-convert {\n",
       "      background-color: #3B4455;\n",
       "      fill: #D2E3FC;\n",
       "    }\n",
       "\n",
       "    [theme=dark] .colab-df-convert:hover {\n",
       "      background-color: #434B5C;\n",
       "      box-shadow: 0px 1px 3px 1px rgba(0, 0, 0, 0.15);\n",
       "      filter: drop-shadow(0px 1px 2px rgba(0, 0, 0, 0.3));\n",
       "      fill: #FFFFFF;\n",
       "    }\n",
       "  </style>\n",
       "\n",
       "      <script>\n",
       "        const buttonEl =\n",
       "          document.querySelector('#df-35fb288b-d33c-4e39-956b-74d4215a8ec0 button.colab-df-convert');\n",
       "        buttonEl.style.display =\n",
       "          google.colab.kernel.accessAllowed ? 'block' : 'none';\n",
       "\n",
       "        async function convertToInteractive(key) {\n",
       "          const element = document.querySelector('#df-35fb288b-d33c-4e39-956b-74d4215a8ec0');\n",
       "          const dataTable =\n",
       "            await google.colab.kernel.invokeFunction('convertToInteractive',\n",
       "                                                     [key], {});\n",
       "          if (!dataTable) return;\n",
       "\n",
       "          const docLinkHtml = 'Like what you see? Visit the ' +\n",
       "            '<a target=\"_blank\" href=https://colab.research.google.com/notebooks/data_table.ipynb>data table notebook</a>'\n",
       "            + ' to learn more about interactive tables.';\n",
       "          element.innerHTML = '';\n",
       "          dataTable['output_type'] = 'display_data';\n",
       "          await google.colab.output.renderOutput(dataTable, element);\n",
       "          const docLink = document.createElement('div');\n",
       "          docLink.innerHTML = docLinkHtml;\n",
       "          element.appendChild(docLink);\n",
       "        }\n",
       "      </script>\n",
       "    </div>\n",
       "  </div>\n",
       "  "
      ],
      "text/plain": [
       "   religion  ethnic_female\n",
       "0       103       0.382214"
      ]
     },
     "execution_count": 26,
     "metadata": {},
     "output_type": "execute_result"
    }
   ],
   "source": [
    "#mode of combined religion and ethnic female\n",
    "merged[['religion','ethnic_female']].mode()"
   ]
  },
  {
   "cell_type": "markdown",
   "metadata": {
    "id": "MWXiV9tqWrtB"
   },
   "source": [
    "7)"
   ]
  },
  {
   "cell_type": "code",
   "execution_count": 27,
   "metadata": {
    "colab": {
     "base_uri": "https://localhost:8080/",
     "height": 282
    },
    "executionInfo": {
     "elapsed": 182,
     "status": "ok",
     "timestamp": 1664162362989,
     "user": {
      "displayName": "Nguyen Tuan Long",
      "userId": "10275884466683494737"
     },
     "user_tz": 420
    },
    "id": "7APLPSRlWrtC",
    "outputId": "3ad986d7-38a3-4c8f-960e-64e52dd46b92"
   },
   "outputs": [
    {
     "data": {
      "text/plain": [
       "<matplotlib.axes._subplots.AxesSubplot at 0x7f53b8825b50>"
      ]
     },
     "execution_count": 27,
     "metadata": {},
     "output_type": "execute_result"
    },
    {
     "data": {
      "image/png": "[encoded data removed]",
      "text/plain": [
       "<Figure size 432x288 with 1 Axes>"
      ]
     },
     "metadata": {
      "needs_background": "light"
     },
     "output_type": "display_data"
    }
   ],
   "source": [
    "merged['religion'].hist()"
   ]
  },
  {
   "cell_type": "code",
   "execution_count": 28,
   "metadata": {
    "colab": {
     "base_uri": "https://localhost:8080/",
     "height": 282
    },
    "executionInfo": {
     "elapsed": 202,
     "status": "ok",
     "timestamp": 1664162363185,
     "user": {
      "displayName": "Nguyen Tuan Long",
      "userId": "10275884466683494737"
     },
     "user_tz": 420
    },
    "id": "ltr99ihaWrtC",
    "outputId": "a3bca144-7278-4acf-c54c-ee5036a931c4"
   },
   "outputs": [
    {
     "data": {
      "text/plain": [
       "<matplotlib.axes._subplots.AxesSubplot at 0x7f53b8790310>"
      ]
     },
     "execution_count": 28,
     "metadata": {},
     "output_type": "execute_result"
    },
    {
     "data": {
      "image/png": "[encoded data removed]",
      "text/plain": [
       "<Figure size 432x288 with 1 Axes>"
      ]
     },
     "metadata": {
      "needs_background": "light"
     },
     "output_type": "display_data"
    }
   ],
   "source": [
    "merged['ethnic_male'].hist()"
   ]
  },
  {
   "cell_type": "code",
   "execution_count": 29,
   "metadata": {
    "colab": {
     "base_uri": "https://localhost:8080/",
     "height": 282
    },
    "executionInfo": {
     "elapsed": 219,
     "status": "ok",
     "timestamp": 1664162363400,
     "user": {
      "displayName": "Nguyen Tuan Long",
      "userId": "10275884466683494737"
     },
     "user_tz": 420
    },
    "id": "VjKrf31TWrtD",
    "outputId": "c6f0104f-2a7b-42fa-e952-43324a1eaa80"
   },
   "outputs": [
    {
     "data": {
      "text/plain": [
       "<matplotlib.axes._subplots.AxesSubplot at 0x7f53b82602d0>"
      ]
     },
     "execution_count": 29,
     "metadata": {},
     "output_type": "execute_result"
    },
    {
     "data": {
      "image/png": "[encoded data removed]",
      "text/plain": [
       "<Figure size 432x288 with 1 Axes>"
      ]
     },
     "metadata": {
      "needs_background": "light"
     },
     "output_type": "display_data"
    }
   ],
   "source": [
    "merged['ethnic_female'].hist()"
   ]
  },
  {
   "cell_type": "code",
   "execution_count": 30,
   "metadata": {
    "colab": {
     "base_uri": "https://localhost:8080/",
     "height": 282
    },
    "executionInfo": {
     "elapsed": 179,
     "status": "ok",
     "timestamp": 1664162363573,
     "user": {
      "displayName": "Nguyen Tuan Long",
      "userId": "10275884466683494737"
     },
     "user_tz": 420
    },
    "id": "sSi1KOvwWrtD",
    "outputId": "885f843b-fb3c-4ccb-afd5-9ada5d3f2994"
   },
   "outputs": [
    {
     "data": {
      "text/plain": [
       "<matplotlib.axes._subplots.AxesSubplot at 0x7f53b81ef8d0>"
      ]
     },
     "execution_count": 30,
     "metadata": {},
     "output_type": "execute_result"
    },
    {
     "data": {
      "image/png": "[encoded data removed]",
      "text/plain": [
       "<Figure size 432x288 with 1 Axes>"
      ]
     },
     "metadata": {
      "needs_background": "light"
     },
     "output_type": "display_data"
    }
   ],
   "source": [
    "merged['education'].hist()"
   ]
  },
  {
   "cell_type": "code",
   "execution_count": 31,
   "metadata": {
    "colab": {
     "base_uri": "https://localhost:8080/",
     "height": 307
    },
    "executionInfo": {
     "elapsed": 409,
     "status": "ok",
     "timestamp": 1664162363974,
     "user": {
      "displayName": "Nguyen Tuan Long",
      "userId": "10275884466683494737"
     },
     "user_tz": 420
    },
    "id": "HHLkrj6hWrtE",
    "outputId": "8c27f6a5-0b4b-4ec7-b324-32ea77dcf02e"
   },
   "outputs": [
    {
     "data": {
      "text/plain": [
       "<matplotlib.axes._subplots.AxesSubplot at 0x7f53b8176dd0>"
      ]
     },
     "execution_count": 31,
     "metadata": {},
     "output_type": "execute_result"
    },
    {
     "data": {
      "image/png": "[encoded data removed]",
      "text/plain": [
       "<Figure size 432x288 with 1 Axes>"
      ]
     },
     "metadata": {
      "needs_background": "light"
     },
     "output_type": "display_data"
    }
   ],
   "source": [
    "merged[['area','population']].plot.scatter(x='area',y='population')"
   ]
  },
  {
   "cell_type": "code",
   "execution_count": 32,
   "metadata": {
    "colab": {
     "base_uri": "https://localhost:8080/",
     "height": 283
    },
    "executionInfo": {
     "elapsed": 7,
     "status": "ok",
     "timestamp": 1664162363977,
     "user": {
      "displayName": "Nguyen Tuan Long",
      "userId": "10275884466683494737"
     },
     "user_tz": 420
    },
    "id": "-CQaGpgEWrtF",
    "outputId": "baff227a-6208-46c8-8d05-93c5f9ed1eb6"
   },
   "outputs": [
    {
     "data": {
      "text/plain": [
       "<matplotlib.axes._subplots.AxesSubplot at 0x7f53b81fa6d0>"
      ]
     },
     "execution_count": 32,
     "metadata": {},
     "output_type": "execute_result"
    },
    {
     "data": {
      "image/png": "[encoded data removed]",
      "text/plain": [
       "<Figure size 432x288 with 1 Axes>"
      ]
     },
     "metadata": {
      "needs_background": "light"
     },
     "output_type": "display_data"
    }
   ],
   "source": [
    "normalized_rate['voter_turnout'].plot.box()"
   ]
  },
  {
   "cell_type": "code",
   "execution_count": 33,
   "metadata": {
    "colab": {
     "base_uri": "https://localhost:8080/",
     "height": 282
    },
    "executionInfo": {
     "elapsed": 253,
     "status": "ok",
     "timestamp": 1664162364226,
     "user": {
      "displayName": "Nguyen Tuan Long",
      "userId": "10275884466683494737"
     },
     "user_tz": 420
    },
    "id": "e8qKu_zwWrtG",
    "outputId": "e61b608d-2134-478b-8930-cd5337067ad4"
   },
   "outputs": [
    {
     "data": {
      "text/plain": [
       "<matplotlib.axes._subplots.AxesSubplot at 0x7f53b80679d0>"
      ]
     },
     "execution_count": 33,
     "metadata": {},
     "output_type": "execute_result"
    },
    {
     "data": {
      "image/png": "[encoded data removed]",
      "text/plain": [
       "<Figure size 432x288 with 1 Axes>"
      ]
     },
     "metadata": {
      "needs_background": "light"
     },
     "output_type": "display_data"
    }
   ],
   "source": [
    "normalized_rate['unemployment'].plot.box()"
   ]
  },
  {
   "cell_type": "markdown",
   "metadata": {
    "id": "kSmAodBycrtS"
   },
   "source": [
    "8)"
   ]
  },
  {
   "cell_type": "code",
   "execution_count": 41,
   "metadata": {
    "colab": {
     "base_uri": "https://localhost:8080/"
    },
    "executionInfo": {
     "elapsed": 165,
     "status": "ok",
     "timestamp": 1664162428027,
     "user": {
      "displayName": "Nguyen Tuan Long",
      "userId": "10275884466683494737"
     },
     "user_tz": 420
    },
    "id": "TaR784ZFcxZ5",
    "outputId": "68514a29-66cd-42af-face-93cf3de270ff"
   },
   "outputs": [
    {
     "data": {
      "text/plain": [
       "Index(['votes', 'unemployment', 'med_hhinc', 'per_capita_inc',\n",
       "       'poverty_all_ages_pct', 'deep_pov_all', 'deep_pov_children',\n",
       "       'population', 'area', 'white', 'black', 'native_american',\n",
       "       'hawaiian_pacific', 'multi', 'voter_turnout', 'democrat', 'county',\n",
       "       'state', 'education', 'religion', 'age_old', 'age_young', 'age_adult',\n",
       "       'ethnic_female', 'ethnic_male'],\n",
       "      dtype='object')"
      ]
     },
     "execution_count": 41,
     "metadata": {},
     "output_type": "execute_result"
    }
   ],
   "source": [
    "merged.columns"
   ]
  },
  {
   "cell_type": "markdown",
   "metadata": {
    "id": "lCkc3uNEdRQ5"
   },
   "source": [
    "9) Label Vector?"
   ]
  },
  {
   "cell_type": "code",
   "execution_count": 43,
   "metadata": {
    "executionInfo": {
     "elapsed": 195,
     "status": "ok",
     "timestamp": 1664162975149,
     "user": {
      "displayName": "Nguyen Tuan Long",
      "userId": "10275884466683494737"
     },
     "user_tz": 420
    },
    "id": "U5i24e7edjKb"
   },
   "outputs": [],
   "source": [
    "merged.to_csv('elections_clean.csv',sep=',',index=False)"
   ]
  }
 ],
 "metadata": {
  "colab": {
   "collapsed_sections": [],
   "provenance": []
  },
  "kernelspec": {
   "display_name": "Python 3",
   "language": "python",
   "name": "python3"
  },
  "language_info": {
   "codemirror_mode": {
    "name": "ipython",
    "version": 3
   },
   "file_extension": ".py",
   "mimetype": "text/x-python",
   "name": "python",
   "nbconvert_exporter": "python",
   "pygments_lexer": "ipython3",
   "version": "3.6.5"
  }
 },
 "nbformat": 4,
 "nbformat_minor": 0
}
